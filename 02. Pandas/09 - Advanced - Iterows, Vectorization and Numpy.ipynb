{
  "cells": [
    {
      "cell_type": "markdown",
      "id": "bb2bd5bc-3af1-443f-aae6-a5e543878136",
      "metadata": {
        "id": "bb2bd5bc-3af1-443f-aae6-a5e543878136"
      },
      "source": [
        "# Advanced Pandas techniques to boost performance!"
      ]
    },
    {
      "cell_type": "markdown",
      "id": "64f0c96c-b4f1-45f2-8c83-66de1b03ec59",
      "metadata": {
        "id": "64f0c96c-b4f1-45f2-8c83-66de1b03ec59"
      },
      "source": [
        "We'll test and compare different methods of applying functions to pandas dataframes.\n",
        "The function we'll be testing is the Haversine Distance formular which takes the cordinates of two points (lattitude and longitude) and calculates the straight line distance"
      ]
    },
    {
      "cell_type": "code",
      "execution_count": 1,
      "id": "173bb4df-e8ca-4929-8ab6-b47f0e438d12",
      "metadata": {
        "id": "173bb4df-e8ca-4929-8ab6-b47f0e438d12"
      },
      "outputs": [],
      "source": [
        "import numpy as np\n",
        "\n",
        "# Define a basic Haversine distance formula\n",
        "def haversine(lat1, lon1, lat2, lon2):\n",
        "    MILES = 3959\n",
        "    lat1, lon1, lat2, lon2 = map(np.deg2rad, [lat1, lon1, lat2, lon2])\n",
        "    dlat = lat2 - lat1\n",
        "    dlon = lon2 - lon1\n",
        "    a = np.sin(dlat/2)**2 + np.cos(lat1) * np.cos(lat2) * np.sin(dlon/2)**2\n",
        "    c = 2 * np.arcsin(np.sqrt(a))\n",
        "    total_miles = MILES * c\n",
        "    return total_miles"
      ]
    },
    {
      "cell_type": "markdown",
      "id": "f12e48bb-2dc5-4954-9d84-22726dfb40ea",
      "metadata": {
        "id": "f12e48bb-2dc5-4954-9d84-22726dfb40ea"
      },
      "source": [
        "## Remember, everytime you loop in Pandas a kitten dies.\n",
        "Not really, but it's you who'll be suffering and I'll show you why"
      ]
    },
    {
      "cell_type": "markdown",
      "id": "5056e093-f6ed-4a78-a03b-439abe1a66e3",
      "metadata": {
        "id": "5056e093-f6ed-4a78-a03b-439abe1a66e3"
      },
      "source": [
        "# Let's loop though a dataframe of cordinates and return a series with these distences"
      ]
    },
    {
      "cell_type": "code",
      "execution_count": 3,
      "id": "c976c92d-f232-4445-8cae-c784e88e198e",
      "metadata": {
        "id": "c976c92d-f232-4445-8cae-c784e88e198e"
      },
      "outputs": [],
      "source": [
        "# Define a function to manually loop over all rows and return a series of distances\n",
        "def haversine_looping(df):\n",
        "    distance_list = []\n",
        "    for i in range(0, len(df)):\n",
        "        d = haversine(40.671, -73.985, df.iloc[i]['latitude'], df.iloc[i]['longitude'])\n",
        "        distance_list.append(d)\n",
        "    return distance_list"
      ]
    },
    {
      "cell_type": "code",
      "execution_count": 4,
      "id": "cea4b4c1-435a-4c8f-95f3-fed9eea27ebe",
      "metadata": {
        "colab": {
          "base_uri": "https://localhost:8080/",
          "height": 206
        },
        "id": "cea4b4c1-435a-4c8f-95f3-fed9eea27ebe",
        "outputId": "a7fc1bf0-57cb-4019-d837-2ea687c43223"
      },
      "outputs": [
        {
          "output_type": "execute_result",
          "data": {
            "text/plain": [
              "   ean_hotel_id                                     name  \\\n",
              "0        269955       Hilton Garden Inn Albany/SUNY Area   \n",
              "1        113431     Courtyard by Marriott Albany Thruway   \n",
              "2        108151                    Radisson Hotel Albany   \n",
              "3        254756  Hilton Garden Inn Albany Medical Center   \n",
              "4        198232  CrestHill Suites SUNY University Albany   \n",
              "\n",
              "                 address1    city state_province postal_code  latitude  \\\n",
              "0     1389 Washington Ave  Albany             NY       12206  42.68751   \n",
              "1  1455 Washington Avenue  Albany             NY       12206  42.68971   \n",
              "2             205 Wolf Rd  Albany             NY       12205  42.72410   \n",
              "3     62 New Scotland Ave  Albany             NY       12208  42.65157   \n",
              "4  1415 Washington Avenue  Albany             NY       12206  42.68873   \n",
              "\n",
              "   longitude  star_rating  high_rate  low_rate  \n",
              "0  -73.81643          3.0   154.0272  124.0216  \n",
              "1  -73.82021          3.0   179.0100  134.0000  \n",
              "2  -73.79822          3.0   134.1700   84.1600  \n",
              "3  -73.77638          3.0   308.2807  228.4597  \n",
              "4  -73.81854          3.0   169.3900   89.3900  "
            ],
            "text/html": [
              "\n",
              "  <div id=\"df-94d4ab22-14d2-46cb-9554-273fe53ea95f\" class=\"colab-df-container\">\n",
              "    <div>\n",
              "<style scoped>\n",
              "    .dataframe tbody tr th:only-of-type {\n",
              "        vertical-align: middle;\n",
              "    }\n",
              "\n",
              "    .dataframe tbody tr th {\n",
              "        vertical-align: top;\n",
              "    }\n",
              "\n",
              "    .dataframe thead th {\n",
              "        text-align: right;\n",
              "    }\n",
              "</style>\n",
              "<table border=\"1\" class=\"dataframe\">\n",
              "  <thead>\n",
              "    <tr style=\"text-align: right;\">\n",
              "      <th></th>\n",
              "      <th>ean_hotel_id</th>\n",
              "      <th>name</th>\n",
              "      <th>address1</th>\n",
              "      <th>city</th>\n",
              "      <th>state_province</th>\n",
              "      <th>postal_code</th>\n",
              "      <th>latitude</th>\n",
              "      <th>longitude</th>\n",
              "      <th>star_rating</th>\n",
              "      <th>high_rate</th>\n",
              "      <th>low_rate</th>\n",
              "    </tr>\n",
              "  </thead>\n",
              "  <tbody>\n",
              "    <tr>\n",
              "      <th>0</th>\n",
              "      <td>269955</td>\n",
              "      <td>Hilton Garden Inn Albany/SUNY Area</td>\n",
              "      <td>1389 Washington Ave</td>\n",
              "      <td>Albany</td>\n",
              "      <td>NY</td>\n",
              "      <td>12206</td>\n",
              "      <td>42.68751</td>\n",
              "      <td>-73.81643</td>\n",
              "      <td>3.0</td>\n",
              "      <td>154.0272</td>\n",
              "      <td>124.0216</td>\n",
              "    </tr>\n",
              "    <tr>\n",
              "      <th>1</th>\n",
              "      <td>113431</td>\n",
              "      <td>Courtyard by Marriott Albany Thruway</td>\n",
              "      <td>1455 Washington Avenue</td>\n",
              "      <td>Albany</td>\n",
              "      <td>NY</td>\n",
              "      <td>12206</td>\n",
              "      <td>42.68971</td>\n",
              "      <td>-73.82021</td>\n",
              "      <td>3.0</td>\n",
              "      <td>179.0100</td>\n",
              "      <td>134.0000</td>\n",
              "    </tr>\n",
              "    <tr>\n",
              "      <th>2</th>\n",
              "      <td>108151</td>\n",
              "      <td>Radisson Hotel Albany</td>\n",
              "      <td>205 Wolf Rd</td>\n",
              "      <td>Albany</td>\n",
              "      <td>NY</td>\n",
              "      <td>12205</td>\n",
              "      <td>42.72410</td>\n",
              "      <td>-73.79822</td>\n",
              "      <td>3.0</td>\n",
              "      <td>134.1700</td>\n",
              "      <td>84.1600</td>\n",
              "    </tr>\n",
              "    <tr>\n",
              "      <th>3</th>\n",
              "      <td>254756</td>\n",
              "      <td>Hilton Garden Inn Albany Medical Center</td>\n",
              "      <td>62 New Scotland Ave</td>\n",
              "      <td>Albany</td>\n",
              "      <td>NY</td>\n",
              "      <td>12208</td>\n",
              "      <td>42.65157</td>\n",
              "      <td>-73.77638</td>\n",
              "      <td>3.0</td>\n",
              "      <td>308.2807</td>\n",
              "      <td>228.4597</td>\n",
              "    </tr>\n",
              "    <tr>\n",
              "      <th>4</th>\n",
              "      <td>198232</td>\n",
              "      <td>CrestHill Suites SUNY University Albany</td>\n",
              "      <td>1415 Washington Avenue</td>\n",
              "      <td>Albany</td>\n",
              "      <td>NY</td>\n",
              "      <td>12206</td>\n",
              "      <td>42.68873</td>\n",
              "      <td>-73.81854</td>\n",
              "      <td>3.0</td>\n",
              "      <td>169.3900</td>\n",
              "      <td>89.3900</td>\n",
              "    </tr>\n",
              "  </tbody>\n",
              "</table>\n",
              "</div>\n",
              "    <div class=\"colab-df-buttons\">\n",
              "\n",
              "  <div class=\"colab-df-container\">\n",
              "    <button class=\"colab-df-convert\" onclick=\"convertToInteractive('df-94d4ab22-14d2-46cb-9554-273fe53ea95f')\"\n",
              "            title=\"Convert this dataframe to an interactive table.\"\n",
              "            style=\"display:none;\">\n",
              "\n",
              "  <svg xmlns=\"http://www.w3.org/2000/svg\" height=\"24px\" viewBox=\"0 -960 960 960\">\n",
              "    <path d=\"M120-120v-720h720v720H120Zm60-500h600v-160H180v160Zm220 220h160v-160H400v160Zm0 220h160v-160H400v160ZM180-400h160v-160H180v160Zm440 0h160v-160H620v160ZM180-180h160v-160H180v160Zm440 0h160v-160H620v160Z\"/>\n",
              "  </svg>\n",
              "    </button>\n",
              "\n",
              "  <style>\n",
              "    .colab-df-container {\n",
              "      display:flex;\n",
              "      gap: 12px;\n",
              "    }\n",
              "\n",
              "    .colab-df-convert {\n",
              "      background-color: #E8F0FE;\n",
              "      border: none;\n",
              "      border-radius: 50%;\n",
              "      cursor: pointer;\n",
              "      display: none;\n",
              "      fill: #1967D2;\n",
              "      height: 32px;\n",
              "      padding: 0 0 0 0;\n",
              "      width: 32px;\n",
              "    }\n",
              "\n",
              "    .colab-df-convert:hover {\n",
              "      background-color: #E2EBFA;\n",
              "      box-shadow: 0px 1px 2px rgba(60, 64, 67, 0.3), 0px 1px 3px 1px rgba(60, 64, 67, 0.15);\n",
              "      fill: #174EA6;\n",
              "    }\n",
              "\n",
              "    .colab-df-buttons div {\n",
              "      margin-bottom: 4px;\n",
              "    }\n",
              "\n",
              "    [theme=dark] .colab-df-convert {\n",
              "      background-color: #3B4455;\n",
              "      fill: #D2E3FC;\n",
              "    }\n",
              "\n",
              "    [theme=dark] .colab-df-convert:hover {\n",
              "      background-color: #434B5C;\n",
              "      box-shadow: 0px 1px 3px 1px rgba(0, 0, 0, 0.15);\n",
              "      filter: drop-shadow(0px 1px 2px rgba(0, 0, 0, 0.3));\n",
              "      fill: #FFFFFF;\n",
              "    }\n",
              "  </style>\n",
              "\n",
              "    <script>\n",
              "      const buttonEl =\n",
              "        document.querySelector('#df-94d4ab22-14d2-46cb-9554-273fe53ea95f button.colab-df-convert');\n",
              "      buttonEl.style.display =\n",
              "        google.colab.kernel.accessAllowed ? 'block' : 'none';\n",
              "\n",
              "      async function convertToInteractive(key) {\n",
              "        const element = document.querySelector('#df-94d4ab22-14d2-46cb-9554-273fe53ea95f');\n",
              "        const dataTable =\n",
              "          await google.colab.kernel.invokeFunction('convertToInteractive',\n",
              "                                                    [key], {});\n",
              "        if (!dataTable) return;\n",
              "\n",
              "        const docLinkHtml = 'Like what you see? Visit the ' +\n",
              "          '<a target=\"_blank\" href=https://colab.research.google.com/notebooks/data_table.ipynb>data table notebook</a>'\n",
              "          + ' to learn more about interactive tables.';\n",
              "        element.innerHTML = '';\n",
              "        dataTable['output_type'] = 'display_data';\n",
              "        await google.colab.output.renderOutput(dataTable, element);\n",
              "        const docLink = document.createElement('div');\n",
              "        docLink.innerHTML = docLinkHtml;\n",
              "        element.appendChild(docLink);\n",
              "      }\n",
              "    </script>\n",
              "  </div>\n",
              "\n",
              "\n",
              "    <div id=\"df-9e36db09-678e-4017-a12a-cd6c79af8019\">\n",
              "      <button class=\"colab-df-quickchart\" onclick=\"quickchart('df-9e36db09-678e-4017-a12a-cd6c79af8019')\"\n",
              "                title=\"Suggest charts\"\n",
              "                style=\"display:none;\">\n",
              "\n",
              "<svg xmlns=\"http://www.w3.org/2000/svg\" height=\"24px\"viewBox=\"0 0 24 24\"\n",
              "     width=\"24px\">\n",
              "    <g>\n",
              "        <path d=\"M19 3H5c-1.1 0-2 .9-2 2v14c0 1.1.9 2 2 2h14c1.1 0 2-.9 2-2V5c0-1.1-.9-2-2-2zM9 17H7v-7h2v7zm4 0h-2V7h2v10zm4 0h-2v-4h2v4z\"/>\n",
              "    </g>\n",
              "</svg>\n",
              "      </button>\n",
              "\n",
              "<style>\n",
              "  .colab-df-quickchart {\n",
              "      --bg-color: #E8F0FE;\n",
              "      --fill-color: #1967D2;\n",
              "      --hover-bg-color: #E2EBFA;\n",
              "      --hover-fill-color: #174EA6;\n",
              "      --disabled-fill-color: #AAA;\n",
              "      --disabled-bg-color: #DDD;\n",
              "  }\n",
              "\n",
              "  [theme=dark] .colab-df-quickchart {\n",
              "      --bg-color: #3B4455;\n",
              "      --fill-color: #D2E3FC;\n",
              "      --hover-bg-color: #434B5C;\n",
              "      --hover-fill-color: #FFFFFF;\n",
              "      --disabled-bg-color: #3B4455;\n",
              "      --disabled-fill-color: #666;\n",
              "  }\n",
              "\n",
              "  .colab-df-quickchart {\n",
              "    background-color: var(--bg-color);\n",
              "    border: none;\n",
              "    border-radius: 50%;\n",
              "    cursor: pointer;\n",
              "    display: none;\n",
              "    fill: var(--fill-color);\n",
              "    height: 32px;\n",
              "    padding: 0;\n",
              "    width: 32px;\n",
              "  }\n",
              "\n",
              "  .colab-df-quickchart:hover {\n",
              "    background-color: var(--hover-bg-color);\n",
              "    box-shadow: 0 1px 2px rgba(60, 64, 67, 0.3), 0 1px 3px 1px rgba(60, 64, 67, 0.15);\n",
              "    fill: var(--button-hover-fill-color);\n",
              "  }\n",
              "\n",
              "  .colab-df-quickchart-complete:disabled,\n",
              "  .colab-df-quickchart-complete:disabled:hover {\n",
              "    background-color: var(--disabled-bg-color);\n",
              "    fill: var(--disabled-fill-color);\n",
              "    box-shadow: none;\n",
              "  }\n",
              "\n",
              "  .colab-df-spinner {\n",
              "    border: 2px solid var(--fill-color);\n",
              "    border-color: transparent;\n",
              "    border-bottom-color: var(--fill-color);\n",
              "    animation:\n",
              "      spin 1s steps(1) infinite;\n",
              "  }\n",
              "\n",
              "  @keyframes spin {\n",
              "    0% {\n",
              "      border-color: transparent;\n",
              "      border-bottom-color: var(--fill-color);\n",
              "      border-left-color: var(--fill-color);\n",
              "    }\n",
              "    20% {\n",
              "      border-color: transparent;\n",
              "      border-left-color: var(--fill-color);\n",
              "      border-top-color: var(--fill-color);\n",
              "    }\n",
              "    30% {\n",
              "      border-color: transparent;\n",
              "      border-left-color: var(--fill-color);\n",
              "      border-top-color: var(--fill-color);\n",
              "      border-right-color: var(--fill-color);\n",
              "    }\n",
              "    40% {\n",
              "      border-color: transparent;\n",
              "      border-right-color: var(--fill-color);\n",
              "      border-top-color: var(--fill-color);\n",
              "    }\n",
              "    60% {\n",
              "      border-color: transparent;\n",
              "      border-right-color: var(--fill-color);\n",
              "    }\n",
              "    80% {\n",
              "      border-color: transparent;\n",
              "      border-right-color: var(--fill-color);\n",
              "      border-bottom-color: var(--fill-color);\n",
              "    }\n",
              "    90% {\n",
              "      border-color: transparent;\n",
              "      border-bottom-color: var(--fill-color);\n",
              "    }\n",
              "  }\n",
              "</style>\n",
              "\n",
              "      <script>\n",
              "        async function quickchart(key) {\n",
              "          const quickchartButtonEl =\n",
              "            document.querySelector('#' + key + ' button');\n",
              "          quickchartButtonEl.disabled = true;  // To prevent multiple clicks.\n",
              "          quickchartButtonEl.classList.add('colab-df-spinner');\n",
              "          try {\n",
              "            const charts = await google.colab.kernel.invokeFunction(\n",
              "                'suggestCharts', [key], {});\n",
              "          } catch (error) {\n",
              "            console.error('Error during call to suggestCharts:', error);\n",
              "          }\n",
              "          quickchartButtonEl.classList.remove('colab-df-spinner');\n",
              "          quickchartButtonEl.classList.add('colab-df-quickchart-complete');\n",
              "        }\n",
              "        (() => {\n",
              "          let quickchartButtonEl =\n",
              "            document.querySelector('#df-9e36db09-678e-4017-a12a-cd6c79af8019 button');\n",
              "          quickchartButtonEl.style.display =\n",
              "            google.colab.kernel.accessAllowed ? 'block' : 'none';\n",
              "        })();\n",
              "      </script>\n",
              "    </div>\n",
              "\n",
              "    </div>\n",
              "  </div>\n"
            ],
            "application/vnd.google.colaboratory.intrinsic+json": {
              "type": "dataframe",
              "variable_name": "df",
              "summary": "{\n  \"name\": \"df\",\n  \"rows\": 1631,\n  \"fields\": [\n    {\n      \"column\": \"ean_hotel_id\",\n      \"properties\": {\n        \"dtype\": \"number\",\n        \"std\": 163497,\n        \"min\": 6295,\n        \"max\": 685047,\n        \"num_unique_values\": 1631,\n        \"samples\": [\n          251498,\n          246465,\n          108267\n        ],\n        \"semantic_type\": \"\",\n        \"description\": \"\"\n      }\n    },\n    {\n      \"column\": \"name\",\n      \"properties\": {\n        \"dtype\": \"string\",\n        \"num_unique_values\": 1602,\n        \"samples\": [\n          \"Firelight Camps\",\n          \"Beautiful 1 Bedroom Apartment\",\n          \"La Quinta Inn & Suites Brooklyn East\"\n        ],\n        \"semantic_type\": \"\",\n        \"description\": \"\"\n      }\n    },\n    {\n      \"column\": \"address1\",\n      \"properties\": {\n        \"dtype\": \"string\",\n        \"num_unique_values\": 1621,\n        \"samples\": [\n          \"611 DeGraw St\",\n          \"120 E 39th Street\",\n          \"75 N Broad St\"\n        ],\n        \"semantic_type\": \"\",\n        \"description\": \"\"\n      }\n    },\n    {\n      \"column\": \"city\",\n      \"properties\": {\n        \"dtype\": \"category\",\n        \"num_unique_values\": 316,\n        \"samples\": [\n          \"Massapequa Park\",\n          \"Brooklyn\",\n          \"Malone\"\n        ],\n        \"semantic_type\": \"\",\n        \"description\": \"\"\n      }\n    },\n    {\n      \"column\": \"state_province\",\n      \"properties\": {\n        \"dtype\": \"category\",\n        \"num_unique_values\": 1,\n        \"samples\": [\n          \"NY\"\n        ],\n        \"semantic_type\": \"\",\n        \"description\": \"\"\n      }\n    },\n    {\n      \"column\": \"postal_code\",\n      \"properties\": {\n        \"dtype\": \"category\",\n        \"num_unique_values\": 461,\n        \"samples\": [\n          \"13658\"\n        ],\n        \"semantic_type\": \"\",\n        \"description\": \"\"\n      }\n    },\n    {\n      \"column\": \"latitude\",\n      \"properties\": {\n        \"dtype\": \"number\",\n        \"std\": 1.131959731283905,\n        \"min\": 40.58399,\n        \"max\": 44.96785,\n        \"num_unique_values\": 1586,\n        \"samples\": [\n          40.82057\n        ],\n        \"semantic_type\": \"\",\n        \"description\": \"\"\n      }\n    },\n    {\n      \"column\": \"longitude\",\n      \"properties\": {\n        \"dtype\": \"number\",\n        \"std\": 1.7744819431890737,\n        \"min\": -79.74201,\n        \"max\": -71.93334,\n        \"num_unique_values\": 1591,\n        \"samples\": [\n          -73.99404\n        ],\n        \"semantic_type\": \"\",\n        \"description\": \"\"\n      }\n    },\n    {\n      \"column\": \"star_rating\",\n      \"properties\": {\n        \"dtype\": \"number\",\n        \"std\": 0.7774861802599273,\n        \"min\": 1.0,\n        \"max\": 5.0,\n        \"num_unique_values\": 9,\n        \"samples\": [\n          5.0\n        ],\n        \"semantic_type\": \"\",\n        \"description\": \"\"\n      }\n    },\n    {\n      \"column\": \"high_rate\",\n      \"properties\": {\n        \"dtype\": \"number\",\n        \"std\": 504.19187991803074,\n        \"min\": 0.0,\n        \"max\": 10888.5,\n        \"num_unique_values\": 1429,\n        \"samples\": [\n          94.09\n        ],\n        \"semantic_type\": \"\",\n        \"description\": \"\"\n      }\n    },\n    {\n      \"column\": \"low_rate\",\n      \"properties\": {\n        \"dtype\": \"number\",\n        \"std\": 205.9142874611619,\n        \"min\": 0.0,\n        \"max\": 5990.25,\n        \"num_unique_values\": 1402,\n        \"samples\": [\n          50.49\n        ],\n        \"semantic_type\": \"\",\n        \"description\": \"\"\n      }\n    }\n  ]\n}"
            }
          },
          "metadata": {},
          "execution_count": 4
        }
      ],
      "source": [
        "import pandas as pd\n",
        "\n",
        "file_name = \"https://github.com/har5hdeep5harma/RealWorld-DSAI-Ledger/raw/refs/heads/main/Data,%20Image%20and%20Reference%20Files/new_york_hotels.csv\"\n",
        "df = pd.read_csv(file_name, encoding = \"ISO-8859-1\")\n",
        "df.head()"
      ]
    },
    {
      "cell_type": "code",
      "execution_count": 5,
      "id": "90492baf-2510-4c0e-b77d-c7ec24e74169",
      "metadata": {
        "colab": {
          "base_uri": "https://localhost:8080/"
        },
        "id": "90492baf-2510-4c0e-b77d-c7ec24e74169",
        "outputId": "7c74f0e1-2ac4-49b1-f832-6b20d9e5ef47"
      },
      "outputs": [
        {
          "output_type": "execute_result",
          "data": {
            "text/plain": [
              "(1631, 11)"
            ]
          },
          "metadata": {},
          "execution_count": 5
        }
      ],
      "source": [
        "df.shape"
      ]
    },
    {
      "cell_type": "code",
      "execution_count": 21,
      "id": "3ee2cff9-4ebf-481e-9134-8c2507005d85",
      "metadata": {
        "colab": {
          "base_uri": "https://localhost:8080/"
        },
        "id": "3ee2cff9-4ebf-481e-9134-8c2507005d85",
        "outputId": "9ecba17e-7673-4806-ce43-74fa9f0fc370"
      },
      "outputs": [
        {
          "output_type": "stream",
          "name": "stdout",
          "text": [
            "201 ms ± 23.9 ms per loop (mean ± std. dev. of 7 runs, 10 loops each)\n"
          ]
        }
      ],
      "source": [
        "# This is a built in magic ipython command that provides timing for code executed in the cell\n",
        "%%timeit\n",
        "\n",
        "# Run the haversine looping function\n",
        "df['distance'] = haversine_looping(df)"
      ]
    },
    {
      "cell_type": "markdown",
      "source": [
        "## Looping with iterrows()"
      ],
      "metadata": {
        "id": "WEcpm_z8VmZ7"
      },
      "id": "WEcpm_z8VmZ7"
    },
    {
      "cell_type": "code",
      "source": [
        "%%timeit\n",
        "\n",
        "# Haversine applied on rows via iteration\n",
        "haversine_series = []\n",
        "for index, row in df.iterrows():\n",
        "    haversine_series.append(haversine(40.671, -73.985, row['latitude'], row['longitude']))\n",
        "df['distance'] = haversine_series"
      ],
      "metadata": {
        "colab": {
          "base_uri": "https://localhost:8080/"
        },
        "id": "_et-4ZMpVpoS",
        "outputId": "37ca620f-7e36-44b0-d010-1ab313c19de9"
      },
      "id": "_et-4ZMpVpoS",
      "execution_count": 22,
      "outputs": [
        {
          "output_type": "stream",
          "name": "stdout",
          "text": [
            "103 ms ± 1.4 ms per loop (mean ± std. dev. of 7 runs, 10 loops each)\n"
          ]
        }
      ]
    },
    {
      "cell_type": "markdown",
      "source": [
        "## We got a 100% improvement! But can we get it any faster?"
      ],
      "metadata": {
        "id": "kpDkVl0lVu96"
      },
      "id": "kpDkVl0lVu96"
    },
    {
      "cell_type": "code",
      "source": [
        "%%timeit\n",
        "\n",
        "# Timing apply on the Haversine function\n",
        "df['distance'] = df.apply(lambda row: haversine(40.671, -73.985, row['latitude'], row['longitude']), axis=1)"
      ],
      "metadata": {
        "colab": {
          "base_uri": "https://localhost:8080/"
        },
        "id": "moiq-jjFVq6z",
        "outputId": "280a2b4c-83ed-47bc-ad73-a0c3b1711430"
      },
      "id": "moiq-jjFVq6z",
      "execution_count": 8,
      "outputs": [
        {
          "output_type": "stream",
          "name": "stdout",
          "text": [
            "37.8 ms ± 10.1 ms per loop (mean ± std. dev. of 7 runs, 10 loops each)\n"
          ]
        }
      ]
    },
    {
      "cell_type": "markdown",
      "source": [
        "### We went from 201ms to 37.8ms, a ten fold increase in speed!"
      ],
      "metadata": {
        "id": "O2-5BrDaV6gM"
      },
      "id": "O2-5BrDaV6gM"
    },
    {
      "cell_type": "code",
      "source": [
        " !pip install line_profiler\n",
        " %load_ext line_profiler\n",
        "\n",
        "# Haversine applied on rows with line profiler\n",
        "%lprun -f haversine df.apply(lambda row: haversine(40.671, -73.985, row['latitude'], row['longitude']), axis=1)\n"
      ],
      "metadata": {
        "colab": {
          "base_uri": "https://localhost:8080/"
        },
        "id": "Cm2VRU62V11B",
        "outputId": "db150e83-1811-4511-e7d0-53f6edec1fbf"
      },
      "id": "Cm2VRU62V11B",
      "execution_count": 10,
      "outputs": [
        {
          "output_type": "stream",
          "name": "stdout",
          "text": [
            "Requirement already satisfied: line_profiler in /usr/local/lib/python3.11/dist-packages (4.2.0)\n",
            "The line_profiler extension is already loaded. To reload it, use:\n",
            "  %reload_ext line_profiler\n"
          ]
        }
      ]
    },
    {
      "cell_type": "markdown",
      "source": [
        "### We can note two things from the output.\n",
        "1. Line 9 our trigonometric calcuation accounts for the bulk of our processing time, understandably so.\n",
        "2. Each line is being hit 1631 times, that is because we're still **looping** so we iterate through every row in our dataframe"
      ],
      "metadata": {
        "id": "5jovKUwoWMQJ"
      },
      "id": "5jovKUwoWMQJ"
    },
    {
      "cell_type": "markdown",
      "source": [
        "# Now for Vectorization!\n",
        "\n",
        "- We've only been passing scalars to our Haversine function. Fortunately, all of the functions being used within the Haversine function, are also able to operate on arrays.\n",
        "- This makes the process of vectorizing our distance function quite simple as we can pass the entire series (columns) to it, performing all the calculations on the entire array simultaneously.\n",
        "\n",
        "![alt text](https://raw.githubusercontent.com/har5hdeep5harma/RealWorld-DSAI-Ledger/refs/heads/main/Data%2C%20Image%20and%20Reference%20Files/vectorization.png)"
      ],
      "metadata": {
        "id": "zxVZFCgaXorr"
      },
      "id": "zxVZFCgaXorr"
    },
    {
      "cell_type": "code",
      "source": [
        "%%timeit\n",
        "\n",
        "# Vectorized implementation of Haversine applied on Pandas series\n",
        "df['distance'] = haversine(40.671, -73.985, df['latitude'], df['longitude'])"
      ],
      "metadata": {
        "colab": {
          "base_uri": "https://localhost:8080/"
        },
        "id": "7L7aq31-XoaQ",
        "outputId": "a4b552f8-06dc-4815-a641-640214fd4cd5"
      },
      "id": "7L7aq31-XoaQ",
      "execution_count": 24,
      "outputs": [
        {
          "output_type": "stream",
          "name": "stdout",
          "text": [
            "1.5 ms ± 188 µs per loop (mean ± std. dev. of 7 runs, 1000 loops each)\n"
          ]
        }
      ]
    },
    {
      "cell_type": "markdown",
      "source": [
        "The slowest run took 14.31 times longer than the fastest. This could mean that an intermediate result is being cached.\n",
        "100 loops, best of 3: 1.5 ms per loop"
      ],
      "metadata": {
        "id": "f98uD76EXzyz"
      },
      "id": "f98uD76EXzyz"
    },
    {
      "cell_type": "code",
      "source": [
        "# Run our line profiler to inspect further\n",
        "%lprun -f haversine df['distance'] = haversine(40.671, -73.985, df['latitude'], df['longitude'])"
      ],
      "metadata": {
        "id": "NmDb_2L9WMAa"
      },
      "id": "NmDb_2L9WMAa",
      "execution_count": 12,
      "outputs": []
    },
    {
      "cell_type": "markdown",
      "source": [
        "We can see that each line is hit once! exactly what we wanted, however, line 9 still accounts for the bulk of our proessing time. Can that be sped up?\n",
        "\n",
        "## Let's use numpy vetorization instead of pandas"
      ],
      "metadata": {
        "id": "JVoCpkfQX6K6"
      },
      "id": "JVoCpkfQX6K6"
    },
    {
      "cell_type": "code",
      "source": [
        "%%timeit\n",
        "\n",
        "# Vectorized implementation of Haversine applied on NumPy arrays (note we use .values to access the numpy series)\n",
        "df['distance'] = haversine(40.671, -73.985, df['latitude'].values, df['longitude'].values)"
      ],
      "metadata": {
        "colab": {
          "base_uri": "https://localhost:8080/"
        },
        "id": "-1k2RG7xX57f",
        "outputId": "ad740500-9a68-4731-d106-2925dd193959"
      },
      "id": "-1k2RG7xX57f",
      "execution_count": 26,
      "outputs": [
        {
          "output_type": "stream",
          "name": "stdout",
          "text": [
            "223 µs ± 10.5 µs per loop (mean ± std. dev. of 7 runs, 1000 loops each)\n"
          ]
        }
      ]
    },
    {
      "cell_type": "markdown",
      "source": [
        "The slowest run took 8.09 times longer than the fastest. This could mean that an intermediate result is being cached.\n",
        "1000 loops, best of 3: 223 µs per loop"
      ],
      "metadata": {
        "id": "jZAuOBe7YF_M"
      },
      "id": "jZAuOBe7YF_M"
    },
    {
      "cell_type": "markdown",
      "source": [
        "# So we went from 201 ms using regular for loops, to 223 µs (or 0.223ms)!!! A 1000 fold increase in performance!"
      ],
      "metadata": {
        "id": "LtYeSHHTYJYF"
      },
      "id": "LtYeSHHTYJYF"
    }
  ],
  "metadata": {
    "kernelspec": {
      "display_name": "Python 3 (ipykernel)",
      "language": "python",
      "name": "python3"
    },
    "language_info": {
      "codemirror_mode": {
        "name": "ipython",
        "version": 3
      },
      "file_extension": ".py",
      "mimetype": "text/x-python",
      "name": "python",
      "nbconvert_exporter": "python",
      "pygments_lexer": "ipython3",
      "version": "3.13.5"
    },
    "colab": {
      "provenance": []
    }
  },
  "nbformat": 4,
  "nbformat_minor": 5
}