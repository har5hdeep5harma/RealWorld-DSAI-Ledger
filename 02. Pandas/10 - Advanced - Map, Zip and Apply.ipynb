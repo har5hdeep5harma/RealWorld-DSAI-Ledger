{
 "cells": [
  {
   "cell_type": "markdown",
   "id": "73282c00-8357-4e74-a279-5b0307960161",
   "metadata": {},
   "source": [
    "# Learn to use Map(), Zip() and Apply()"
   ]
  },
  {
   "cell_type": "markdown",
   "id": "54105f12-7cfb-4c8f-b4a9-39e1d9864247",
   "metadata": {},
   "source": [
    "Let's start with map().\n",
    "\n",
    "map() is a Python funtion that can be used to apply another function to a list or dictiony. "
   ]
  },
  {
   "cell_type": "code",
   "execution_count": 2,
   "id": "9e1e2776-bfac-408c-95a7-c40035a73ddf",
   "metadata": {},
   "outputs": [],
   "source": [
    "numbers = [5, 2, 7, 3, 4, 6, 8, 1]\n",
    "\n",
    "# Let's make a function that caculates squares\n",
    "def square_number(x): \n",
    "    return x**2"
   ]
  },
  {
   "cell_type": "code",
   "execution_count": 3,
   "id": "fa5d2c2c-031e-485f-b70e-a98220bfda3f",
   "metadata": {},
   "outputs": [
    {
     "name": "stdout",
     "output_type": "stream",
     "text": [
      "Non-Pythonic Approach:  [25, 4, 49, 9, 16, 36, 64, 1]\n"
     ]
    }
   ],
   "source": [
    "# A non-pythonic approach is using a for loop to iterate over each element in our list and append the result to our squares list\n",
    "squares = []\n",
    "for num in numbers:\n",
    "    squares.append(square_number(num))\n",
    "print('Non-Pythonic Approach: ', squares)"
   ]
  },
  {
   "cell_type": "code",
   "execution_count": 4,
   "id": "eb7ebd4e-7f0b-44ea-822d-c471a386dee5",
   "metadata": {},
   "outputs": [
    {
     "name": "stdout",
     "output_type": "stream",
     "text": [
      "Pythonic Approach:  [25, 4, 49, 9, 16, 36, 64, 1]\n"
     ]
    }
   ],
   "source": [
    "# A pythonic approach would be to use Map. It takes the function and the list as its input arguments.\n",
    "x = map(square_number, numbers)\n",
    "print('Pythonic Approach: ', list(x))"
   ]
  },
  {
   "cell_type": "markdown",
   "id": "2d082d39-d756-4fb5-b352-91fb82fc5163",
   "metadata": {},
   "source": [
    "# Let's now explore zip()"
   ]
  },
  {
   "cell_type": "code",
   "execution_count": 5,
   "id": "ed729178-5d6b-4b25-94f3-f66b7a330df7",
   "metadata": {},
   "outputs": [
    {
     "name": "stdout",
     "output_type": "stream",
     "text": [
      "5 3\n",
      "2 8\n",
      "7 6\n",
      "3 8\n",
      "4 1\n"
     ]
    }
   ],
   "source": [
    "a = [5, 2, 7, 3, 4]\n",
    "b = [3, 8, 6, 8, 1]\n",
    "\n",
    "# Iterate over two or more lists simultaneously\n",
    "for x, y in zip(a, b):\n",
    "    print(x,y)"
   ]
  },
  {
   "cell_type": "markdown",
   "id": "13b8e862-0dc0-48f6-9b82-d8ef087bf517",
   "metadata": {},
   "source": [
    "# Now let's look at filter().\n",
    "Filter takes a function and a sequence (list or dictionarty) as its input and works similarly to **map** however, filter only stores the elements that were evaluated to be **True**"
   ]
  },
  {
   "cell_type": "code",
   "execution_count": 6,
   "id": "38a695e6-8238-4edd-a196-27bef94d6b7e",
   "metadata": {},
   "outputs": [],
   "source": [
    "numbers = [5, 2, 7, 3, 4, 6, 8, 1, 9, 0, 10]\n",
    "\n",
    "# Will return true if input number is even\n",
    "def isEven(x):\n",
    "    return x % 2 == 0"
   ]
  },
  {
   "cell_type": "code",
   "execution_count": 7,
   "id": "7ec4e7a1-7241-4972-9d1f-7c6bb1ac558e",
   "metadata": {},
   "outputs": [
    {
     "name": "stdout",
     "output_type": "stream",
     "text": [
      "Non-Pythonic Approach:  [2, 4, 6, 8, 0, 10]\n"
     ]
    }
   ],
   "source": [
    "# A non-pythonic approach would be to use a for loop with an if statement inside\n",
    "even_numbers = []\n",
    "for num in numbers:\n",
    "    if isEven(num):\n",
    "        even_numbers.append(num)\n",
    "print('Non-Pythonic Approach: ', even_numbers)"
   ]
  },
  {
   "cell_type": "code",
   "execution_count": null,
   "id": "6199b53e-ff2b-4f4f-84be-ffb11ab26ea6",
   "metadata": {},
   "outputs": [],
   "source": []
  }
 ],
 "metadata": {
  "kernelspec": {
   "display_name": "Python 3 (ipykernel)",
   "language": "python",
   "name": "python3"
  },
  "language_info": {
   "codemirror_mode": {
    "name": "ipython",
    "version": 3
   },
   "file_extension": ".py",
   "mimetype": "text/x-python",
   "name": "python",
   "nbconvert_exporter": "python",
   "pygments_lexer": "ipython3",
   "version": "3.13.5"
  }
 },
 "nbformat": 4,
 "nbformat_minor": 5
}
