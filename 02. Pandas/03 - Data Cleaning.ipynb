{
  "cells": [
    {
      "cell_type": "markdown",
      "metadata": {
        "id": "L0ATZYtS6dYh"
      },
      "source": [
        "# Pandas - Data Cleaning"
      ]
    },
    {
      "cell_type": "code",
      "execution_count": 1,
      "metadata": {
        "colab": {
          "base_uri": "https://localhost:8080/",
          "height": 206
        },
        "id": "-rAuFRAj6m-W",
        "outputId": "62bc5429-353f-43d4-b277-9795ec931d47"
      },
      "outputs": [
        {
          "data": {
            "text/html": [
              "<div>\n",
              "<style scoped>\n",
              "    .dataframe tbody tr th:only-of-type {\n",
              "        vertical-align: middle;\n",
              "    }\n",
              "\n",
              "    .dataframe tbody tr th {\n",
              "        vertical-align: top;\n",
              "    }\n",
              "\n",
              "    .dataframe thead th {\n",
              "        text-align: right;\n",
              "    }\n",
              "</style>\n",
              "<table border=\"1\" class=\"dataframe\">\n",
              "  <thead>\n",
              "    <tr style=\"text-align: right;\">\n",
              "      <th></th>\n",
              "      <th>ano</th>\n",
              "      <th>mes</th>\n",
              "      <th>estado</th>\n",
              "      <th>numero</th>\n",
              "      <th>encontro</th>\n",
              "    </tr>\n",
              "  </thead>\n",
              "  <tbody>\n",
              "    <tr>\n",
              "      <th>6449</th>\n",
              "      <td>2012</td>\n",
              "      <td>Dezembro</td>\n",
              "      <td>Tocantins</td>\n",
              "      <td>128</td>\n",
              "      <td>1/1/2012</td>\n",
              "    </tr>\n",
              "    <tr>\n",
              "      <th>6450</th>\n",
              "      <td>2013</td>\n",
              "      <td>Dezembro</td>\n",
              "      <td>Tocantins</td>\n",
              "      <td>85</td>\n",
              "      <td>1/1/2013</td>\n",
              "    </tr>\n",
              "    <tr>\n",
              "      <th>6451</th>\n",
              "      <td>2014</td>\n",
              "      <td>Dezembro</td>\n",
              "      <td>Tocantins</td>\n",
              "      <td>223</td>\n",
              "      <td>1/1/2014</td>\n",
              "    </tr>\n",
              "    <tr>\n",
              "      <th>6452</th>\n",
              "      <td>2015</td>\n",
              "      <td>Dezembro</td>\n",
              "      <td>Tocantins</td>\n",
              "      <td>373</td>\n",
              "      <td>1/1/2015</td>\n",
              "    </tr>\n",
              "    <tr>\n",
              "      <th>6453</th>\n",
              "      <td>2016</td>\n",
              "      <td>Dezembro</td>\n",
              "      <td>Tocantins</td>\n",
              "      <td>119</td>\n",
              "      <td>1/1/2016</td>\n",
              "    </tr>\n",
              "  </tbody>\n",
              "</table>\n",
              "</div>"
            ],
            "text/plain": [
              "       ano       mes     estado numero  encontro\n",
              "6449  2012  Dezembro  Tocantins    128  1/1/2012\n",
              "6450  2013  Dezembro  Tocantins     85  1/1/2013\n",
              "6451  2014  Dezembro  Tocantins    223  1/1/2014\n",
              "6452  2015  Dezembro  Tocantins    373  1/1/2015\n",
              "6453  2016  Dezembro  Tocantins    119  1/1/2016"
            ]
          },
          "execution_count": 1,
          "metadata": {},
          "output_type": "execute_result"
        }
      ],
      "source": [
        "# Let's load a new dataset on the number of fires in the Amazon rainforest\n",
        "\n",
        "import pandas as pd\n",
        "\n",
        "file_name = \"https://github.com/har5hdeep5harma/RealWorld-DSAI-Ledger/raw/refs/heads/main/Data,%20Image%20and%20Reference%20Files/amazon_fires.csv\"\n",
        "df = pd.read_csv(file_name, encoding = \"ISO-8859-1\")\n",
        "\n",
        "df.tail()"
      ]
    },
    {
      "cell_type": "code",
      "execution_count": 2,
      "metadata": {
        "colab": {
          "base_uri": "https://localhost:8080/"
        },
        "id": "nAd6vRRl9Lbi",
        "outputId": "eeb48f68-bfd9-49f3-a6d6-9dc03d69665a"
      },
      "outputs": [
        {
          "data": {
            "text/plain": [
              "array(['Acre', 'alagoas', 'Amapa', 'Amazonas', 'Bahia', 'Ceara',\n",
              "       'Distrito Federal', 'Espirito Santo', 'Goias', 'Maranhao',\n",
              "       'Mato Grosso', 'Minas Gerais', 'pará', 'Paraiba', 'Pernambuco',\n",
              "       'Piau', 'Rio', 'rondonia', 'Roraima', 'Santa Catarina',\n",
              "       'Sao Paulo', 'Sergipe', 'Tocantins'], dtype=object)"
            ]
          },
          "execution_count": 2,
          "metadata": {},
          "output_type": "execute_result"
        }
      ],
      "source": [
        "# How many regions are in the dataset?\n",
        "\n",
        "df['estado'].unique()"
      ]
    },
    {
      "cell_type": "markdown",
      "metadata": {
        "id": "QBTCS0CF9PJz"
      },
      "source": [
        "# Renaming Columns"
      ]
    },
    {
      "cell_type": "code",
      "execution_count": 3,
      "metadata": {
        "id": "0mADuPs49RED"
      },
      "outputs": [],
      "source": [
        "new_columns = {'ano' : 'year',\n",
        "               'estado': 'state',\n",
        "               'mes': 'month',\n",
        "               'numero': 'number_of_fires',\n",
        "               'encontro': 'date'}\n",
        "\n",
        "df.rename(columns = new_columns, inplace=True)"
      ]
    },
    {
      "cell_type": "code",
      "execution_count": 4,
      "metadata": {
        "colab": {
          "base_uri": "https://localhost:8080/",
          "height": 206
        },
        "id": "ocqv7wDv9WAu",
        "outputId": "e749b3de-92f3-4a61-ddc4-0ae600c2737d"
      },
      "outputs": [
        {
          "data": {
            "text/html": [
              "<div>\n",
              "<style scoped>\n",
              "    .dataframe tbody tr th:only-of-type {\n",
              "        vertical-align: middle;\n",
              "    }\n",
              "\n",
              "    .dataframe tbody tr th {\n",
              "        vertical-align: top;\n",
              "    }\n",
              "\n",
              "    .dataframe thead th {\n",
              "        text-align: right;\n",
              "    }\n",
              "</style>\n",
              "<table border=\"1\" class=\"dataframe\">\n",
              "  <thead>\n",
              "    <tr style=\"text-align: right;\">\n",
              "      <th></th>\n",
              "      <th>year</th>\n",
              "      <th>month</th>\n",
              "      <th>state</th>\n",
              "      <th>number_of_fires</th>\n",
              "      <th>date</th>\n",
              "    </tr>\n",
              "  </thead>\n",
              "  <tbody>\n",
              "    <tr>\n",
              "      <th>0</th>\n",
              "      <td>1998</td>\n",
              "      <td>Janeiro</td>\n",
              "      <td>Acre</td>\n",
              "      <td>0 Fires</td>\n",
              "      <td>1/1/1998</td>\n",
              "    </tr>\n",
              "    <tr>\n",
              "      <th>1</th>\n",
              "      <td>1999</td>\n",
              "      <td>Janeiro</td>\n",
              "      <td>Acre</td>\n",
              "      <td>0 Fires</td>\n",
              "      <td>1/1/1999</td>\n",
              "    </tr>\n",
              "    <tr>\n",
              "      <th>2</th>\n",
              "      <td>2000</td>\n",
              "      <td>Janeiro</td>\n",
              "      <td>Acre</td>\n",
              "      <td>0 Fires</td>\n",
              "      <td>1/1/2000</td>\n",
              "    </tr>\n",
              "    <tr>\n",
              "      <th>3</th>\n",
              "      <td>2001</td>\n",
              "      <td>Janeiro</td>\n",
              "      <td>Acre</td>\n",
              "      <td>0 Fires</td>\n",
              "      <td>1/1/2001</td>\n",
              "    </tr>\n",
              "    <tr>\n",
              "      <th>4</th>\n",
              "      <td>2002</td>\n",
              "      <td>Janeiro</td>\n",
              "      <td>Acre</td>\n",
              "      <td>0 Fires</td>\n",
              "      <td>1/1/2002</td>\n",
              "    </tr>\n",
              "  </tbody>\n",
              "</table>\n",
              "</div>"
            ],
            "text/plain": [
              "   year    month state number_of_fires      date\n",
              "0  1998  Janeiro  Acre         0 Fires  1/1/1998\n",
              "1  1999  Janeiro  Acre         0 Fires  1/1/1999\n",
              "2  2000  Janeiro  Acre         0 Fires  1/1/2000\n",
              "3  2001  Janeiro  Acre         0 Fires  1/1/2001\n",
              "4  2002  Janeiro  Acre         0 Fires  1/1/2002"
            ]
          },
          "execution_count": 4,
          "metadata": {},
          "output_type": "execute_result"
        }
      ],
      "source": [
        "df.head()"
      ]
    },
    {
      "cell_type": "code",
      "execution_count": 5,
      "metadata": {
        "colab": {
          "base_uri": "https://localhost:8080/"
        },
        "id": "JZv9TxjL9dEz",
        "outputId": "b81e5465-2927-4025-aedd-7fb79dd8cf96"
      },
      "outputs": [
        {
          "data": {
            "text/plain": [
              "array([1998, 1999, 2000, 2001, 2002, 2003, 2004, 2005, 2006, 2007, 2008,\n",
              "       2009, 2010, 2011, 2012, 2013, 2014, 2015, 2016, 2017])"
            ]
          },
          "execution_count": 5,
          "metadata": {},
          "output_type": "execute_result"
        }
      ],
      "source": [
        "# How many years of data do we have?\n",
        "df['year'].unique()"
      ]
    },
    {
      "cell_type": "code",
      "execution_count": 6,
      "metadata": {
        "colab": {
          "base_uri": "https://localhost:8080/"
        },
        "id": "_cIJ0z8e9hZw",
        "outputId": "f29c1fd1-9432-4435-8aa5-ed219f2f3a57"
      },
      "outputs": [
        {
          "name": "stdout",
          "output_type": "stream",
          "text": [
            "<class 'pandas.core.frame.DataFrame'>\n",
            "RangeIndex: 6454 entries, 0 to 6453\n",
            "Data columns (total 5 columns):\n",
            " #   Column           Non-Null Count  Dtype \n",
            "---  ------           --------------  ----- \n",
            " 0   year             6454 non-null   int64 \n",
            " 1   month            6454 non-null   object\n",
            " 2   state            6454 non-null   object\n",
            " 3   number_of_fires  6322 non-null   object\n",
            " 4   date             6454 non-null   object\n",
            "dtypes: int64(1), object(4)\n",
            "memory usage: 252.2+ KB\n"
          ]
        }
      ],
      "source": [
        "# Let's explore our datetypes, we should expect number_of_types to be an integer or float datatype\n",
        "\n",
        "df.info()"
      ]
    },
    {
      "cell_type": "code",
      "execution_count": 7,
      "metadata": {
        "colab": {
          "base_uri": "https://localhost:8080/",
          "height": 206
        },
        "id": "KVEns-yD9s5A",
        "outputId": "827a2718-52d5-43cc-92d0-5dc44575c182"
      },
      "outputs": [
        {
          "data": {
            "text/html": [
              "<div>\n",
              "<style scoped>\n",
              "    .dataframe tbody tr th:only-of-type {\n",
              "        vertical-align: middle;\n",
              "    }\n",
              "\n",
              "    .dataframe tbody tr th {\n",
              "        vertical-align: top;\n",
              "    }\n",
              "\n",
              "    .dataframe thead th {\n",
              "        text-align: right;\n",
              "    }\n",
              "</style>\n",
              "<table border=\"1\" class=\"dataframe\">\n",
              "  <thead>\n",
              "    <tr style=\"text-align: right;\">\n",
              "      <th></th>\n",
              "      <th>year</th>\n",
              "      <th>month</th>\n",
              "      <th>state</th>\n",
              "      <th>number_of_fires</th>\n",
              "      <th>date</th>\n",
              "    </tr>\n",
              "  </thead>\n",
              "  <tbody>\n",
              "    <tr>\n",
              "      <th>0</th>\n",
              "      <td>1998</td>\n",
              "      <td>Janeiro</td>\n",
              "      <td>Acre</td>\n",
              "      <td>0 Fires</td>\n",
              "      <td>1/1/1998</td>\n",
              "    </tr>\n",
              "    <tr>\n",
              "      <th>1</th>\n",
              "      <td>1999</td>\n",
              "      <td>Janeiro</td>\n",
              "      <td>Acre</td>\n",
              "      <td>0 Fires</td>\n",
              "      <td>1/1/1999</td>\n",
              "    </tr>\n",
              "    <tr>\n",
              "      <th>2</th>\n",
              "      <td>2000</td>\n",
              "      <td>Janeiro</td>\n",
              "      <td>Acre</td>\n",
              "      <td>0 Fires</td>\n",
              "      <td>1/1/2000</td>\n",
              "    </tr>\n",
              "    <tr>\n",
              "      <th>3</th>\n",
              "      <td>2001</td>\n",
              "      <td>Janeiro</td>\n",
              "      <td>Acre</td>\n",
              "      <td>0 Fires</td>\n",
              "      <td>1/1/2001</td>\n",
              "    </tr>\n",
              "    <tr>\n",
              "      <th>4</th>\n",
              "      <td>2002</td>\n",
              "      <td>Janeiro</td>\n",
              "      <td>Acre</td>\n",
              "      <td>0 Fires</td>\n",
              "      <td>1/1/2002</td>\n",
              "    </tr>\n",
              "  </tbody>\n",
              "</table>\n",
              "</div>"
            ],
            "text/plain": [
              "   year    month state number_of_fires      date\n",
              "0  1998  Janeiro  Acre         0 Fires  1/1/1998\n",
              "1  1999  Janeiro  Acre         0 Fires  1/1/1999\n",
              "2  2000  Janeiro  Acre         0 Fires  1/1/2000\n",
              "3  2001  Janeiro  Acre         0 Fires  1/1/2001\n",
              "4  2002  Janeiro  Acre         0 Fires  1/1/2002"
            ]
          },
          "execution_count": 7,
          "metadata": {},
          "output_type": "execute_result"
        }
      ],
      "source": [
        "df.head()"
      ]
    },
    {
      "cell_type": "markdown",
      "metadata": {
        "id": "J7ozvF3T-FCI"
      },
      "source": [
        "# Re-arranging columns"
      ]
    },
    {
      "cell_type": "code",
      "execution_count": 8,
      "metadata": {
        "colab": {
          "base_uri": "https://localhost:8080/",
          "height": 206
        },
        "id": "G0BGbb0q-J2h",
        "outputId": "d49e2dfd-e78e-4712-a272-1507be342859"
      },
      "outputs": [
        {
          "data": {
            "text/html": [
              "<div>\n",
              "<style scoped>\n",
              "    .dataframe tbody tr th:only-of-type {\n",
              "        vertical-align: middle;\n",
              "    }\n",
              "\n",
              "    .dataframe tbody tr th {\n",
              "        vertical-align: top;\n",
              "    }\n",
              "\n",
              "    .dataframe thead th {\n",
              "        text-align: right;\n",
              "    }\n",
              "</style>\n",
              "<table border=\"1\" class=\"dataframe\">\n",
              "  <thead>\n",
              "    <tr style=\"text-align: right;\">\n",
              "      <th></th>\n",
              "      <th>date</th>\n",
              "      <th>month</th>\n",
              "      <th>year</th>\n",
              "      <th>state</th>\n",
              "      <th>number_of_fires</th>\n",
              "    </tr>\n",
              "  </thead>\n",
              "  <tbody>\n",
              "    <tr>\n",
              "      <th>0</th>\n",
              "      <td>1/1/1998</td>\n",
              "      <td>Janeiro</td>\n",
              "      <td>1998</td>\n",
              "      <td>Acre</td>\n",
              "      <td>0 Fires</td>\n",
              "    </tr>\n",
              "    <tr>\n",
              "      <th>1</th>\n",
              "      <td>1/1/1999</td>\n",
              "      <td>Janeiro</td>\n",
              "      <td>1999</td>\n",
              "      <td>Acre</td>\n",
              "      <td>0 Fires</td>\n",
              "    </tr>\n",
              "    <tr>\n",
              "      <th>2</th>\n",
              "      <td>1/1/2000</td>\n",
              "      <td>Janeiro</td>\n",
              "      <td>2000</td>\n",
              "      <td>Acre</td>\n",
              "      <td>0 Fires</td>\n",
              "    </tr>\n",
              "    <tr>\n",
              "      <th>3</th>\n",
              "      <td>1/1/2001</td>\n",
              "      <td>Janeiro</td>\n",
              "      <td>2001</td>\n",
              "      <td>Acre</td>\n",
              "      <td>0 Fires</td>\n",
              "    </tr>\n",
              "    <tr>\n",
              "      <th>4</th>\n",
              "      <td>1/1/2002</td>\n",
              "      <td>Janeiro</td>\n",
              "      <td>2002</td>\n",
              "      <td>Acre</td>\n",
              "      <td>0 Fires</td>\n",
              "    </tr>\n",
              "  </tbody>\n",
              "</table>\n",
              "</div>"
            ],
            "text/plain": [
              "       date    month  year state number_of_fires\n",
              "0  1/1/1998  Janeiro  1998  Acre         0 Fires\n",
              "1  1/1/1999  Janeiro  1999  Acre         0 Fires\n",
              "2  1/1/2000  Janeiro  2000  Acre         0 Fires\n",
              "3  1/1/2001  Janeiro  2001  Acre         0 Fires\n",
              "4  1/1/2002  Janeiro  2002  Acre         0 Fires"
            ]
          },
          "execution_count": 8,
          "metadata": {},
          "output_type": "execute_result"
        }
      ],
      "source": [
        "# Columns are numbered from 0, left to right\n",
        "# Let's put date first, month second and year 3rd\n",
        "\n",
        "new_order = [4,1,0,2,3,]\n",
        "df = df[df.columns[new_order]]\n",
        "df.head()"
      ]
    },
    {
      "cell_type": "code",
      "execution_count": 9,
      "metadata": {
        "colab": {
          "base_uri": "https://localhost:8080/",
          "height": 833
        },
        "id": "5QhFx5_H-RiR",
        "outputId": "a2c86ccf-cbb4-421c-fd31-f09d9a7ba8ed"
      },
      "outputs": [
        {
          "data": {
            "text/html": [
              "<div>\n",
              "<style scoped>\n",
              "    .dataframe tbody tr th:only-of-type {\n",
              "        vertical-align: middle;\n",
              "    }\n",
              "\n",
              "    .dataframe tbody tr th {\n",
              "        vertical-align: top;\n",
              "    }\n",
              "\n",
              "    .dataframe thead th {\n",
              "        text-align: right;\n",
              "    }\n",
              "</style>\n",
              "<table border=\"1\" class=\"dataframe\">\n",
              "  <thead>\n",
              "    <tr style=\"text-align: right;\">\n",
              "      <th></th>\n",
              "      <th>date</th>\n",
              "      <th>month</th>\n",
              "      <th>year</th>\n",
              "      <th>state</th>\n",
              "      <th>number_of_fires</th>\n",
              "    </tr>\n",
              "  </thead>\n",
              "  <tbody>\n",
              "    <tr>\n",
              "      <th>0</th>\n",
              "      <td>1/1/1998</td>\n",
              "      <td>Janeiro</td>\n",
              "      <td>1998</td>\n",
              "      <td>Acre</td>\n",
              "      <td>0 Fires</td>\n",
              "    </tr>\n",
              "    <tr>\n",
              "      <th>1</th>\n",
              "      <td>1/1/1999</td>\n",
              "      <td>Janeiro</td>\n",
              "      <td>1999</td>\n",
              "      <td>Acre</td>\n",
              "      <td>0 Fires</td>\n",
              "    </tr>\n",
              "    <tr>\n",
              "      <th>2</th>\n",
              "      <td>1/1/2000</td>\n",
              "      <td>Janeiro</td>\n",
              "      <td>2000</td>\n",
              "      <td>Acre</td>\n",
              "      <td>0 Fires</td>\n",
              "    </tr>\n",
              "    <tr>\n",
              "      <th>3</th>\n",
              "      <td>1/1/2001</td>\n",
              "      <td>Janeiro</td>\n",
              "      <td>2001</td>\n",
              "      <td>Acre</td>\n",
              "      <td>0 Fires</td>\n",
              "    </tr>\n",
              "    <tr>\n",
              "      <th>4</th>\n",
              "      <td>1/1/2002</td>\n",
              "      <td>Janeiro</td>\n",
              "      <td>2002</td>\n",
              "      <td>Acre</td>\n",
              "      <td>0 Fires</td>\n",
              "    </tr>\n",
              "    <tr>\n",
              "      <th>5</th>\n",
              "      <td>1/1/2003</td>\n",
              "      <td>Janeiro</td>\n",
              "      <td>2003</td>\n",
              "      <td>Acre</td>\n",
              "      <td>10 Fires</td>\n",
              "    </tr>\n",
              "    <tr>\n",
              "      <th>6</th>\n",
              "      <td>1/1/2004</td>\n",
              "      <td>Janeiro</td>\n",
              "      <td>2004</td>\n",
              "      <td>Acre</td>\n",
              "      <td>0 Fires</td>\n",
              "    </tr>\n",
              "    <tr>\n",
              "      <th>7</th>\n",
              "      <td>1/1/2005</td>\n",
              "      <td>Janeiro</td>\n",
              "      <td>2005</td>\n",
              "      <td>Acre</td>\n",
              "      <td>12 Fires</td>\n",
              "    </tr>\n",
              "    <tr>\n",
              "      <th>8</th>\n",
              "      <td>1/1/2006</td>\n",
              "      <td>Janeiro</td>\n",
              "      <td>2006</td>\n",
              "      <td>Acre</td>\n",
              "      <td>4 Fires</td>\n",
              "    </tr>\n",
              "    <tr>\n",
              "      <th>9</th>\n",
              "      <td>1/1/2007</td>\n",
              "      <td>Janeiro</td>\n",
              "      <td>2007</td>\n",
              "      <td>Acre</td>\n",
              "      <td>0 Fires</td>\n",
              "    </tr>\n",
              "    <tr>\n",
              "      <th>10</th>\n",
              "      <td>1/1/2008</td>\n",
              "      <td>Janeiro</td>\n",
              "      <td>2008</td>\n",
              "      <td>Acre</td>\n",
              "      <td>0 Fires</td>\n",
              "    </tr>\n",
              "    <tr>\n",
              "      <th>11</th>\n",
              "      <td>1/1/2009</td>\n",
              "      <td>Janeiro</td>\n",
              "      <td>2009</td>\n",
              "      <td>Acre</td>\n",
              "      <td>0 Fires</td>\n",
              "    </tr>\n",
              "    <tr>\n",
              "      <th>12</th>\n",
              "      <td>1/1/2010</td>\n",
              "      <td>Janeiro</td>\n",
              "      <td>2010</td>\n",
              "      <td>Acre</td>\n",
              "      <td>1 Fires</td>\n",
              "    </tr>\n",
              "    <tr>\n",
              "      <th>13</th>\n",
              "      <td>1/1/2011</td>\n",
              "      <td>Janeiro</td>\n",
              "      <td>2011</td>\n",
              "      <td>Acre</td>\n",
              "      <td>0 Fires</td>\n",
              "    </tr>\n",
              "    <tr>\n",
              "      <th>14</th>\n",
              "      <td>1/1/2012</td>\n",
              "      <td>Janeiro</td>\n",
              "      <td>2012</td>\n",
              "      <td>Acre</td>\n",
              "      <td>0 Fires</td>\n",
              "    </tr>\n",
              "    <tr>\n",
              "      <th>15</th>\n",
              "      <td>1/1/2013</td>\n",
              "      <td>Janeiro</td>\n",
              "      <td>2013</td>\n",
              "      <td>Acre</td>\n",
              "      <td>0 Fires</td>\n",
              "    </tr>\n",
              "    <tr>\n",
              "      <th>16</th>\n",
              "      <td>1/1/2014</td>\n",
              "      <td>Janeiro</td>\n",
              "      <td>2014</td>\n",
              "      <td>Acre</td>\n",
              "      <td>0 Fires</td>\n",
              "    </tr>\n",
              "    <tr>\n",
              "      <th>17</th>\n",
              "      <td>1/1/2015</td>\n",
              "      <td>Janeiro</td>\n",
              "      <td>2015</td>\n",
              "      <td>Acre</td>\n",
              "      <td>1 Fires</td>\n",
              "    </tr>\n",
              "    <tr>\n",
              "      <th>18</th>\n",
              "      <td>1/1/2016</td>\n",
              "      <td>Janeiro</td>\n",
              "      <td>2016</td>\n",
              "      <td>Acre</td>\n",
              "      <td>12 Fires</td>\n",
              "    </tr>\n",
              "    <tr>\n",
              "      <th>19</th>\n",
              "      <td>1/1/2017</td>\n",
              "      <td>Janeiro</td>\n",
              "      <td>2017</td>\n",
              "      <td>Acre</td>\n",
              "      <td>0 Fires</td>\n",
              "    </tr>\n",
              "    <tr>\n",
              "      <th>20</th>\n",
              "      <td>1/1/1998</td>\n",
              "      <td>Fevereiro</td>\n",
              "      <td>1998</td>\n",
              "      <td>Acre</td>\n",
              "      <td>0 Fires</td>\n",
              "    </tr>\n",
              "    <tr>\n",
              "      <th>21</th>\n",
              "      <td>1/1/1999</td>\n",
              "      <td>Fevereiro</td>\n",
              "      <td>1999</td>\n",
              "      <td>Acre</td>\n",
              "      <td>0 Fires</td>\n",
              "    </tr>\n",
              "    <tr>\n",
              "      <th>22</th>\n",
              "      <td>1/1/2000</td>\n",
              "      <td>Fevereiro</td>\n",
              "      <td>2000</td>\n",
              "      <td>Acre</td>\n",
              "      <td>0 Fires</td>\n",
              "    </tr>\n",
              "    <tr>\n",
              "      <th>23</th>\n",
              "      <td>1/1/2001</td>\n",
              "      <td>Fevereiro</td>\n",
              "      <td>2001</td>\n",
              "      <td>Acre</td>\n",
              "      <td>0 Fires</td>\n",
              "    </tr>\n",
              "    <tr>\n",
              "      <th>24</th>\n",
              "      <td>1/1/2002</td>\n",
              "      <td>Fevereiro</td>\n",
              "      <td>2002</td>\n",
              "      <td>Acre</td>\n",
              "      <td>1 Fires</td>\n",
              "    </tr>\n",
              "  </tbody>\n",
              "</table>\n",
              "</div>"
            ],
            "text/plain": [
              "        date      month  year state number_of_fires\n",
              "0   1/1/1998    Janeiro  1998  Acre         0 Fires\n",
              "1   1/1/1999    Janeiro  1999  Acre         0 Fires\n",
              "2   1/1/2000    Janeiro  2000  Acre         0 Fires\n",
              "3   1/1/2001    Janeiro  2001  Acre         0 Fires\n",
              "4   1/1/2002    Janeiro  2002  Acre         0 Fires\n",
              "5   1/1/2003    Janeiro  2003  Acre        10 Fires\n",
              "6   1/1/2004    Janeiro  2004  Acre         0 Fires\n",
              "7   1/1/2005    Janeiro  2005  Acre        12 Fires\n",
              "8   1/1/2006    Janeiro  2006  Acre         4 Fires\n",
              "9   1/1/2007    Janeiro  2007  Acre         0 Fires\n",
              "10  1/1/2008    Janeiro  2008  Acre         0 Fires\n",
              "11  1/1/2009    Janeiro  2009  Acre         0 Fires\n",
              "12  1/1/2010    Janeiro  2010  Acre         1 Fires\n",
              "13  1/1/2011    Janeiro  2011  Acre         0 Fires\n",
              "14  1/1/2012    Janeiro  2012  Acre         0 Fires\n",
              "15  1/1/2013    Janeiro  2013  Acre         0 Fires\n",
              "16  1/1/2014    Janeiro  2014  Acre         0 Fires\n",
              "17  1/1/2015    Janeiro  2015  Acre         1 Fires\n",
              "18  1/1/2016    Janeiro  2016  Acre        12 Fires\n",
              "19  1/1/2017    Janeiro  2017  Acre         0 Fires\n",
              "20  1/1/1998  Fevereiro  1998  Acre         0 Fires\n",
              "21  1/1/1999  Fevereiro  1999  Acre         0 Fires\n",
              "22  1/1/2000  Fevereiro  2000  Acre         0 Fires\n",
              "23  1/1/2001  Fevereiro  2001  Acre         0 Fires\n",
              "24  1/1/2002  Fevereiro  2002  Acre         1 Fires"
            ]
          },
          "execution_count": 9,
          "metadata": {},
          "output_type": "execute_result"
        }
      ],
      "source": [
        "df.head(25)"
      ]
    },
    {
      "cell_type": "code",
      "execution_count": 10,
      "metadata": {
        "colab": {
          "base_uri": "https://localhost:8080/",
          "height": 206
        },
        "id": "-Pc-5VBl-UyK",
        "outputId": "3b9404ca-12d9-41ba-c666-819eab13c2e1"
      },
      "outputs": [
        {
          "data": {
            "text/html": [
              "<div>\n",
              "<style scoped>\n",
              "    .dataframe tbody tr th:only-of-type {\n",
              "        vertical-align: middle;\n",
              "    }\n",
              "\n",
              "    .dataframe tbody tr th {\n",
              "        vertical-align: top;\n",
              "    }\n",
              "\n",
              "    .dataframe thead th {\n",
              "        text-align: right;\n",
              "    }\n",
              "</style>\n",
              "<table border=\"1\" class=\"dataframe\">\n",
              "  <thead>\n",
              "    <tr style=\"text-align: right;\">\n",
              "      <th></th>\n",
              "      <th>date</th>\n",
              "      <th>month</th>\n",
              "      <th>year</th>\n",
              "      <th>state</th>\n",
              "      <th>number_of_fires</th>\n",
              "    </tr>\n",
              "  </thead>\n",
              "  <tbody>\n",
              "    <tr>\n",
              "      <th>6449</th>\n",
              "      <td>1/1/2012</td>\n",
              "      <td>Dezembro</td>\n",
              "      <td>2012</td>\n",
              "      <td>Tocantins</td>\n",
              "      <td>128</td>\n",
              "    </tr>\n",
              "    <tr>\n",
              "      <th>6450</th>\n",
              "      <td>1/1/2013</td>\n",
              "      <td>Dezembro</td>\n",
              "      <td>2013</td>\n",
              "      <td>Tocantins</td>\n",
              "      <td>85</td>\n",
              "    </tr>\n",
              "    <tr>\n",
              "      <th>6451</th>\n",
              "      <td>1/1/2014</td>\n",
              "      <td>Dezembro</td>\n",
              "      <td>2014</td>\n",
              "      <td>Tocantins</td>\n",
              "      <td>223</td>\n",
              "    </tr>\n",
              "    <tr>\n",
              "      <th>6452</th>\n",
              "      <td>1/1/2015</td>\n",
              "      <td>Dezembro</td>\n",
              "      <td>2015</td>\n",
              "      <td>Tocantins</td>\n",
              "      <td>373</td>\n",
              "    </tr>\n",
              "    <tr>\n",
              "      <th>6453</th>\n",
              "      <td>1/1/2016</td>\n",
              "      <td>Dezembro</td>\n",
              "      <td>2016</td>\n",
              "      <td>Tocantins</td>\n",
              "      <td>119</td>\n",
              "    </tr>\n",
              "  </tbody>\n",
              "</table>\n",
              "</div>"
            ],
            "text/plain": [
              "          date     month  year      state number_of_fires\n",
              "6449  1/1/2012  Dezembro  2012  Tocantins             128\n",
              "6450  1/1/2013  Dezembro  2013  Tocantins              85\n",
              "6451  1/1/2014  Dezembro  2014  Tocantins             223\n",
              "6452  1/1/2015  Dezembro  2015  Tocantins             373\n",
              "6453  1/1/2016  Dezembro  2016  Tocantins             119"
            ]
          },
          "execution_count": 10,
          "metadata": {},
          "output_type": "execute_result"
        }
      ],
      "source": [
        "df.tail()"
      ]
    },
    {
      "cell_type": "markdown",
      "metadata": {
        "id": "3NR9SuPj-aN5"
      },
      "source": [
        "# Determing if a column contains numeric data"
      ]
    },
    {
      "cell_type": "code",
      "execution_count": 11,
      "metadata": {
        "colab": {
          "base_uri": "https://localhost:8080/",
          "height": 458
        },
        "id": "4zhK7zyc-cWF",
        "outputId": "94c85471-5445-4c5d-ba96-18a81614b668"
      },
      "outputs": [
        {
          "data": {
            "text/plain": [
              "0       False\n",
              "1       False\n",
              "2       False\n",
              "3       False\n",
              "4       False\n",
              "        ...  \n",
              "6449     True\n",
              "6450     True\n",
              "6451     True\n",
              "6452     True\n",
              "6453     True\n",
              "Name: number_of_fires, Length: 6454, dtype: object"
            ]
          },
          "execution_count": 11,
          "metadata": {},
          "output_type": "execute_result"
        }
      ],
      "source": [
        "# It isn't, let's find our why\n",
        "\n",
        "df['number_of_fires'].str.isnumeric()"
      ]
    },
    {
      "cell_type": "code",
      "execution_count": 47,
      "metadata": {
        "colab": {
          "base_uri": "https://localhost:8080/",
          "height": 293
        },
        "id": "pr4AFzil-oHT",
        "outputId": "6438291e-537b-40ad-a326-63ca46f26839"
      },
      "outputs": [
        {
          "ename": "ValueError",
          "evalue": "Cannot mask with non-boolean array containing NA / NaN values",
          "output_type": "error",
          "traceback": [
            "\u001b[31m---------------------------------------------------------------------------\u001b[39m",
            "\u001b[31mValueError\u001b[39m                                Traceback (most recent call last)",
            "\u001b[36mCell\u001b[39m\u001b[36m \u001b[39m\u001b[32mIn[47]\u001b[39m\u001b[32m, line 1\u001b[39m\n\u001b[32m----> \u001b[39m\u001b[32m1\u001b[39m \u001b[43mdf\u001b[49m\u001b[43m[\u001b[49m\u001b[43mdf\u001b[49m\u001b[43m[\u001b[49m\u001b[33;43m'\u001b[39;49m\u001b[33;43mnumber_of_fires\u001b[39;49m\u001b[33;43m'\u001b[39;49m\u001b[43m]\u001b[49m\u001b[43m.\u001b[49m\u001b[43mstr\u001b[49m\u001b[43m.\u001b[49m\u001b[43misdigit\u001b[49m\u001b[43m(\u001b[49m\u001b[43m)\u001b[49m\u001b[43m]\u001b[49m\n",
            "\u001b[36mFile \u001b[39m\u001b[32m~\\AppData\\Roaming\\Python\\Python312\\site-packages\\pandas\\core\\frame.py:4097\u001b[39m, in \u001b[36mDataFrame.__getitem__\u001b[39m\u001b[34m(self, key)\u001b[39m\n\u001b[32m   4094\u001b[39m     \u001b[38;5;28;01mreturn\u001b[39;00m \u001b[38;5;28mself\u001b[39m.where(key)\n\u001b[32m   4096\u001b[39m \u001b[38;5;66;03m# Do we have a (boolean) 1d indexer?\u001b[39;00m\n\u001b[32m-> \u001b[39m\u001b[32m4097\u001b[39m \u001b[38;5;28;01mif\u001b[39;00m \u001b[43mcom\u001b[49m\u001b[43m.\u001b[49m\u001b[43mis_bool_indexer\u001b[49m\u001b[43m(\u001b[49m\u001b[43mkey\u001b[49m\u001b[43m)\u001b[49m:\n\u001b[32m   4098\u001b[39m     \u001b[38;5;28;01mreturn\u001b[39;00m \u001b[38;5;28mself\u001b[39m._getitem_bool_array(key)\n\u001b[32m   4100\u001b[39m \u001b[38;5;66;03m# We are left with two options: a single key, and a collection of keys,\u001b[39;00m\n\u001b[32m   4101\u001b[39m \u001b[38;5;66;03m# We interpret tuples as collections only for non-MultiIndex\u001b[39;00m\n",
            "\u001b[36mFile \u001b[39m\u001b[32m~\\AppData\\Roaming\\Python\\Python312\\site-packages\\pandas\\core\\common.py:136\u001b[39m, in \u001b[36mis_bool_indexer\u001b[39m\u001b[34m(key)\u001b[39m\n\u001b[32m    132\u001b[39m     na_msg = \u001b[33m\"\u001b[39m\u001b[33mCannot mask with non-boolean array containing NA / NaN values\u001b[39m\u001b[33m\"\u001b[39m\n\u001b[32m    133\u001b[39m     \u001b[38;5;28;01mif\u001b[39;00m lib.is_bool_array(key_array, skipna=\u001b[38;5;28;01mTrue\u001b[39;00m):\n\u001b[32m    134\u001b[39m         \u001b[38;5;66;03m# Don't raise on e.g. [\"A\", \"B\", np.nan], see\u001b[39;00m\n\u001b[32m    135\u001b[39m         \u001b[38;5;66;03m#  test_loc_getitem_list_of_labels_categoricalindex_with_na\u001b[39;00m\n\u001b[32m--> \u001b[39m\u001b[32m136\u001b[39m         \u001b[38;5;28;01mraise\u001b[39;00m \u001b[38;5;167;01mValueError\u001b[39;00m(na_msg)\n\u001b[32m    137\u001b[39m     \u001b[38;5;28;01mreturn\u001b[39;00m \u001b[38;5;28;01mFalse\u001b[39;00m\n\u001b[32m    138\u001b[39m \u001b[38;5;28;01mreturn\u001b[39;00m \u001b[38;5;28;01mTrue\u001b[39;00m\n",
            "\u001b[31mValueError\u001b[39m: Cannot mask with non-boolean array containing NA / NaN values"
          ]
        }
      ],
      "source": [
        "df[df['number_of_fires'].str.isdigit()]"
      ]
    },
    {
      "cell_type": "code",
      "execution_count": 13,
      "metadata": {
        "colab": {
          "base_uri": "https://localhost:8080/",
          "height": 458
        },
        "id": "FH1VKjCR-roz",
        "outputId": "9d371648-a9a1-4996-b901-b8dedded3536"
      },
      "outputs": [
        {
          "data": {
            "text/plain": [
              "0       False\n",
              "1       False\n",
              "2       False\n",
              "3       False\n",
              "4       False\n",
              "        ...  \n",
              "6449     True\n",
              "6450     True\n",
              "6451     True\n",
              "6452     True\n",
              "6453     True\n",
              "Name: number_of_fires, Length: 6454, dtype: bool"
            ]
          },
          "execution_count": 13,
          "metadata": {},
          "output_type": "execute_result"
        }
      ],
      "source": [
        "# We get the above error because our isdigit() returns Nan for blank or missing values\n",
        "# To fix this we need to convert our column datatype from non-null objects to a String\n",
        "\n",
        "df['number_of_fires'].astype(str).str.isdigit()"
      ]
    },
    {
      "cell_type": "markdown",
      "metadata": {
        "id": "KCfiTzJG-0tt"
      },
      "source": [
        "- Bascially, `str.isdigit` only returns True for strings containing solely the digits 0-9.\n",
        "- By contrast, `str.isnumeric` returns True if it contains any numeric characters. e.g. '½'"
      ]
    },
    {
      "cell_type": "markdown",
      "metadata": {
        "id": "Ew1HMWMU-4cD"
      },
      "source": [
        "# Removing unnecessary text from columns"
      ]
    },
    {
      "cell_type": "code",
      "execution_count": 14,
      "metadata": {
        "colab": {
          "base_uri": "https://localhost:8080/",
          "height": 458
        },
        "id": "E5QKdDg2-6lG",
        "outputId": "5e37f7f2-bc90-4aed-f0cd-c8ff98a8ada2"
      },
      "outputs": [
        {
          "data": {
            "text/plain": [
              "0         0\n",
              "1         0\n",
              "2         0\n",
              "3         0\n",
              "4         0\n",
              "       ... \n",
              "6449    128\n",
              "6450     85\n",
              "6451    223\n",
              "6452    373\n",
              "6453    119\n",
              "Name: number_of_fires, Length: 6454, dtype: object"
            ]
          },
          "execution_count": 14,
          "metadata": {},
          "output_type": "execute_result"
        }
      ],
      "source": [
        "df['number_of_fires'].str.strip(\" Fires\")"
      ]
    },
    {
      "cell_type": "markdown",
      "metadata": {
        "id": "ZS1E6HvA_EJi"
      },
      "source": [
        "Strip - Return a copy of the string with leading and trailing characters removed. If chars is omitted or None, whitespace characters are removed. If given and not None, chars must be a string; the characters in the string will be stripped from the both ends of the string this method is called on."
      ]
    },
    {
      "cell_type": "code",
      "execution_count": 15,
      "metadata": {
        "colab": {
          "base_uri": "https://localhost:8080/",
          "height": 206
        },
        "id": "ER8rHhSZ_HZ5",
        "outputId": "7bcfe445-eddc-4a41-8600-d83ff2c15ca1"
      },
      "outputs": [
        {
          "data": {
            "text/html": [
              "<div>\n",
              "<style scoped>\n",
              "    .dataframe tbody tr th:only-of-type {\n",
              "        vertical-align: middle;\n",
              "    }\n",
              "\n",
              "    .dataframe tbody tr th {\n",
              "        vertical-align: top;\n",
              "    }\n",
              "\n",
              "    .dataframe thead th {\n",
              "        text-align: right;\n",
              "    }\n",
              "</style>\n",
              "<table border=\"1\" class=\"dataframe\">\n",
              "  <thead>\n",
              "    <tr style=\"text-align: right;\">\n",
              "      <th></th>\n",
              "      <th>date</th>\n",
              "      <th>month</th>\n",
              "      <th>year</th>\n",
              "      <th>state</th>\n",
              "      <th>number_of_fires</th>\n",
              "    </tr>\n",
              "  </thead>\n",
              "  <tbody>\n",
              "    <tr>\n",
              "      <th>0</th>\n",
              "      <td>1/1/1998</td>\n",
              "      <td>Janeiro</td>\n",
              "      <td>1998</td>\n",
              "      <td>Acre</td>\n",
              "      <td>0</td>\n",
              "    </tr>\n",
              "    <tr>\n",
              "      <th>1</th>\n",
              "      <td>1/1/1999</td>\n",
              "      <td>Janeiro</td>\n",
              "      <td>1999</td>\n",
              "      <td>Acre</td>\n",
              "      <td>0</td>\n",
              "    </tr>\n",
              "    <tr>\n",
              "      <th>2</th>\n",
              "      <td>1/1/2000</td>\n",
              "      <td>Janeiro</td>\n",
              "      <td>2000</td>\n",
              "      <td>Acre</td>\n",
              "      <td>0</td>\n",
              "    </tr>\n",
              "    <tr>\n",
              "      <th>3</th>\n",
              "      <td>1/1/2001</td>\n",
              "      <td>Janeiro</td>\n",
              "      <td>2001</td>\n",
              "      <td>Acre</td>\n",
              "      <td>0</td>\n",
              "    </tr>\n",
              "    <tr>\n",
              "      <th>4</th>\n",
              "      <td>1/1/2002</td>\n",
              "      <td>Janeiro</td>\n",
              "      <td>2002</td>\n",
              "      <td>Acre</td>\n",
              "      <td>0</td>\n",
              "    </tr>\n",
              "  </tbody>\n",
              "</table>\n",
              "</div>"
            ],
            "text/plain": [
              "       date    month  year state number_of_fires\n",
              "0  1/1/1998  Janeiro  1998  Acre               0\n",
              "1  1/1/1999  Janeiro  1999  Acre               0\n",
              "2  1/1/2000  Janeiro  2000  Acre               0\n",
              "3  1/1/2001  Janeiro  2001  Acre               0\n",
              "4  1/1/2002  Janeiro  2002  Acre               0"
            ]
          },
          "execution_count": 15,
          "metadata": {},
          "output_type": "execute_result"
        }
      ],
      "source": [
        "# To replace column with cleaned column\n",
        "\n",
        "df['number_of_fires'] = df['number_of_fires'].str.strip(\" Fires\")\n",
        "df.head()"
      ]
    },
    {
      "cell_type": "code",
      "execution_count": 16,
      "metadata": {
        "colab": {
          "base_uri": "https://localhost:8080/"
        },
        "id": "VnY7Z5mz_MOe",
        "outputId": "9ace1e91-3739-492b-d622-9518a8e807ce"
      },
      "outputs": [
        {
          "name": "stdout",
          "output_type": "stream",
          "text": [
            "<class 'pandas.core.frame.DataFrame'>\n",
            "RangeIndex: 6454 entries, 0 to 6453\n",
            "Data columns (total 5 columns):\n",
            " #   Column           Non-Null Count  Dtype \n",
            "---  ------           --------------  ----- \n",
            " 0   date             6454 non-null   object\n",
            " 1   month            6454 non-null   object\n",
            " 2   year             6454 non-null   int64 \n",
            " 3   state            6454 non-null   object\n",
            " 4   number_of_fires  6322 non-null   object\n",
            "dtypes: int64(1), object(4)\n",
            "memory usage: 252.2+ KB\n"
          ]
        }
      ],
      "source": [
        "df.info()"
      ]
    },
    {
      "cell_type": "code",
      "execution_count": 17,
      "metadata": {
        "colab": {
          "base_uri": "https://localhost:8080/",
          "height": 206
        },
        "id": "dIgWAZiC_RV8",
        "outputId": "8bd589b3-2aa7-42f0-e1b2-0a64278c2fd2"
      },
      "outputs": [
        {
          "data": {
            "text/html": [
              "<div>\n",
              "<style scoped>\n",
              "    .dataframe tbody tr th:only-of-type {\n",
              "        vertical-align: middle;\n",
              "    }\n",
              "\n",
              "    .dataframe tbody tr th {\n",
              "        vertical-align: top;\n",
              "    }\n",
              "\n",
              "    .dataframe thead th {\n",
              "        text-align: right;\n",
              "    }\n",
              "</style>\n",
              "<table border=\"1\" class=\"dataframe\">\n",
              "  <thead>\n",
              "    <tr style=\"text-align: right;\">\n",
              "      <th></th>\n",
              "      <th>date</th>\n",
              "      <th>month</th>\n",
              "      <th>year</th>\n",
              "      <th>state</th>\n",
              "      <th>number_of_fires</th>\n",
              "    </tr>\n",
              "  </thead>\n",
              "  <tbody>\n",
              "    <tr>\n",
              "      <th>0</th>\n",
              "      <td>1/1/1998</td>\n",
              "      <td>Janeiro</td>\n",
              "      <td>1998</td>\n",
              "      <td>Acre</td>\n",
              "      <td>0.0</td>\n",
              "    </tr>\n",
              "    <tr>\n",
              "      <th>1</th>\n",
              "      <td>1/1/1999</td>\n",
              "      <td>Janeiro</td>\n",
              "      <td>1999</td>\n",
              "      <td>Acre</td>\n",
              "      <td>0.0</td>\n",
              "    </tr>\n",
              "    <tr>\n",
              "      <th>2</th>\n",
              "      <td>1/1/2000</td>\n",
              "      <td>Janeiro</td>\n",
              "      <td>2000</td>\n",
              "      <td>Acre</td>\n",
              "      <td>0.0</td>\n",
              "    </tr>\n",
              "    <tr>\n",
              "      <th>3</th>\n",
              "      <td>1/1/2001</td>\n",
              "      <td>Janeiro</td>\n",
              "      <td>2001</td>\n",
              "      <td>Acre</td>\n",
              "      <td>0.0</td>\n",
              "    </tr>\n",
              "    <tr>\n",
              "      <th>4</th>\n",
              "      <td>1/1/2002</td>\n",
              "      <td>Janeiro</td>\n",
              "      <td>2002</td>\n",
              "      <td>Acre</td>\n",
              "      <td>0.0</td>\n",
              "    </tr>\n",
              "  </tbody>\n",
              "</table>\n",
              "</div>"
            ],
            "text/plain": [
              "       date    month  year state  number_of_fires\n",
              "0  1/1/1998  Janeiro  1998  Acre              0.0\n",
              "1  1/1/1999  Janeiro  1999  Acre              0.0\n",
              "2  1/1/2000  Janeiro  2000  Acre              0.0\n",
              "3  1/1/2001  Janeiro  2001  Acre              0.0\n",
              "4  1/1/2002  Janeiro  2002  Acre              0.0"
            ]
          },
          "execution_count": 17,
          "metadata": {},
          "output_type": "execute_result"
        }
      ],
      "source": [
        "# We need to convert our number_of_fires column to a float data type\n",
        "# Also, here's an alternative string manipulation technique we can use\n",
        "\n",
        "df[\"number_of_fires\"] = df[\"number_of_fires\"].str.replace('','0').astype(float)\n",
        "df.head()"
      ]
    },
    {
      "cell_type": "code",
      "execution_count": 18,
      "metadata": {
        "id": "uzVwHDWg_VuM"
      },
      "outputs": [],
      "source": [
        "# That was one way we could have handled blank data"
      ]
    },
    {
      "cell_type": "markdown",
      "metadata": {
        "id": "s_N9Gs_D_aUY"
      },
      "source": [
        "# Handling missing data"
      ]
    },
    {
      "cell_type": "code",
      "execution_count": 19,
      "metadata": {
        "colab": {
          "base_uri": "https://localhost:8080/",
          "height": 206
        },
        "id": "q0DrxxjT_byt",
        "outputId": "dd29adc0-6cfb-4d60-d689-5a3232979419"
      },
      "outputs": [
        {
          "data": {
            "text/html": [
              "<div>\n",
              "<style scoped>\n",
              "    .dataframe tbody tr th:only-of-type {\n",
              "        vertical-align: middle;\n",
              "    }\n",
              "\n",
              "    .dataframe tbody tr th {\n",
              "        vertical-align: top;\n",
              "    }\n",
              "\n",
              "    .dataframe thead th {\n",
              "        text-align: right;\n",
              "    }\n",
              "</style>\n",
              "<table border=\"1\" class=\"dataframe\">\n",
              "  <thead>\n",
              "    <tr style=\"text-align: right;\">\n",
              "      <th></th>\n",
              "      <th>year</th>\n",
              "      <th>month</th>\n",
              "      <th>state</th>\n",
              "      <th>number_of_fires</th>\n",
              "      <th>date</th>\n",
              "    </tr>\n",
              "  </thead>\n",
              "  <tbody>\n",
              "    <tr>\n",
              "      <th>0</th>\n",
              "      <td>1998</td>\n",
              "      <td>Janeiro</td>\n",
              "      <td>Acre</td>\n",
              "      <td>0</td>\n",
              "      <td>1/1/1998</td>\n",
              "    </tr>\n",
              "    <tr>\n",
              "      <th>1</th>\n",
              "      <td>1999</td>\n",
              "      <td>Janeiro</td>\n",
              "      <td>Acre</td>\n",
              "      <td>0</td>\n",
              "      <td>1/1/1999</td>\n",
              "    </tr>\n",
              "    <tr>\n",
              "      <th>2</th>\n",
              "      <td>2000</td>\n",
              "      <td>Janeiro</td>\n",
              "      <td>Acre</td>\n",
              "      <td>0</td>\n",
              "      <td>1/1/2000</td>\n",
              "    </tr>\n",
              "    <tr>\n",
              "      <th>3</th>\n",
              "      <td>2001</td>\n",
              "      <td>Janeiro</td>\n",
              "      <td>Acre</td>\n",
              "      <td>0</td>\n",
              "      <td>1/1/2001</td>\n",
              "    </tr>\n",
              "    <tr>\n",
              "      <th>4</th>\n",
              "      <td>2002</td>\n",
              "      <td>Janeiro</td>\n",
              "      <td>Acre</td>\n",
              "      <td>0</td>\n",
              "      <td>1/1/2002</td>\n",
              "    </tr>\n",
              "  </tbody>\n",
              "</table>\n",
              "</div>"
            ],
            "text/plain": [
              "   year    month state number_of_fires      date\n",
              "0  1998  Janeiro  Acre               0  1/1/1998\n",
              "1  1999  Janeiro  Acre               0  1/1/1999\n",
              "2  2000  Janeiro  Acre               0  1/1/2000\n",
              "3  2001  Janeiro  Acre               0  1/1/2001\n",
              "4  2002  Janeiro  Acre               0  1/1/2002"
            ]
          },
          "execution_count": 19,
          "metadata": {},
          "output_type": "execute_result"
        }
      ],
      "source": [
        "# Let's reload our dataframe\n",
        "file_name = \"https://raw.githubusercontent.com/rajeevratan84/datascienceforbusiness/master/amazon_fires.csv\"\n",
        "df = pd.read_csv(file_name, encoding = \"ISO-8859-1\")\n",
        "new_columns = {'ano' : 'year',\n",
        "               'estado': 'state',\n",
        "               'mes': 'month',\n",
        "               'numero': 'number_of_fires',\n",
        "               'encontro': 'date'}\n",
        "df.rename(columns = new_columns, inplace=True)\n",
        "df['number_of_fires'] = df['number_of_fires'].str.strip(\" Fires\")\n",
        "# Creating a true copy of our dataframe\n",
        "df_copy = df.copy()\n",
        "df.head()"
      ]
    },
    {
      "cell_type": "code",
      "execution_count": 20,
      "metadata": {
        "colab": {
          "base_uri": "https://localhost:8080/",
          "height": 241
        },
        "id": "FGPYnEG8_ipC",
        "outputId": "c8d317ad-44d5-4042-b850-eb57dad5b4fd"
      },
      "outputs": [
        {
          "data": {
            "text/plain": [
              "year                 0\n",
              "month                0\n",
              "state                0\n",
              "number_of_fires    132\n",
              "date                 0\n",
              "dtype: int64"
            ]
          },
          "execution_count": 20,
          "metadata": {},
          "output_type": "execute_result"
        }
      ],
      "source": [
        "# Viewing the sum of missing values in each column\n",
        "\n",
        "df.isnull().sum()"
      ]
    },
    {
      "cell_type": "code",
      "execution_count": 21,
      "metadata": {
        "colab": {
          "base_uri": "https://localhost:8080/",
          "height": 206
        },
        "id": "IB-AUNAe_mTn",
        "outputId": "e920240d-0e2e-42e2-b316-6771e24977d4"
      },
      "outputs": [
        {
          "data": {
            "text/html": [
              "<div>\n",
              "<style scoped>\n",
              "    .dataframe tbody tr th:only-of-type {\n",
              "        vertical-align: middle;\n",
              "    }\n",
              "\n",
              "    .dataframe tbody tr th {\n",
              "        vertical-align: top;\n",
              "    }\n",
              "\n",
              "    .dataframe thead th {\n",
              "        text-align: right;\n",
              "    }\n",
              "</style>\n",
              "<table border=\"1\" class=\"dataframe\">\n",
              "  <thead>\n",
              "    <tr style=\"text-align: right;\">\n",
              "      <th></th>\n",
              "      <th>index</th>\n",
              "      <th>year</th>\n",
              "      <th>month</th>\n",
              "      <th>state</th>\n",
              "      <th>number_of_fires</th>\n",
              "      <th>date</th>\n",
              "    </tr>\n",
              "  </thead>\n",
              "  <tbody>\n",
              "    <tr>\n",
              "      <th>0</th>\n",
              "      <td>0</td>\n",
              "      <td>1998</td>\n",
              "      <td>Janeiro</td>\n",
              "      <td>Acre</td>\n",
              "      <td>0</td>\n",
              "      <td>1/1/1998</td>\n",
              "    </tr>\n",
              "    <tr>\n",
              "      <th>1</th>\n",
              "      <td>1</td>\n",
              "      <td>1999</td>\n",
              "      <td>Janeiro</td>\n",
              "      <td>Acre</td>\n",
              "      <td>0</td>\n",
              "      <td>1/1/1999</td>\n",
              "    </tr>\n",
              "    <tr>\n",
              "      <th>2</th>\n",
              "      <td>2</td>\n",
              "      <td>2000</td>\n",
              "      <td>Janeiro</td>\n",
              "      <td>Acre</td>\n",
              "      <td>0</td>\n",
              "      <td>1/1/2000</td>\n",
              "    </tr>\n",
              "    <tr>\n",
              "      <th>3</th>\n",
              "      <td>3</td>\n",
              "      <td>2001</td>\n",
              "      <td>Janeiro</td>\n",
              "      <td>Acre</td>\n",
              "      <td>0</td>\n",
              "      <td>1/1/2001</td>\n",
              "    </tr>\n",
              "    <tr>\n",
              "      <th>4</th>\n",
              "      <td>4</td>\n",
              "      <td>2002</td>\n",
              "      <td>Janeiro</td>\n",
              "      <td>Acre</td>\n",
              "      <td>0</td>\n",
              "      <td>1/1/2002</td>\n",
              "    </tr>\n",
              "  </tbody>\n",
              "</table>\n",
              "</div>"
            ],
            "text/plain": [
              "   index  year    month state number_of_fires      date\n",
              "0      0  1998  Janeiro  Acre               0  1/1/1998\n",
              "1      1  1999  Janeiro  Acre               0  1/1/1999\n",
              "2      2  2000  Janeiro  Acre               0  1/1/2000\n",
              "3      3  2001  Janeiro  Acre               0  1/1/2001\n",
              "4      4  2002  Janeiro  Acre               0  1/1/2002"
            ]
          },
          "execution_count": 21,
          "metadata": {},
          "output_type": "execute_result"
        }
      ],
      "source": [
        "# We can easily remove Null or NaN (not a number) values\n",
        "\n",
        "# Drop rows with NaN values\n",
        "df = df.dropna()\n",
        "df = df.reset_index() # reset's row indexes in case any rows were dropped\n",
        "df.head()"
      ]
    },
    {
      "cell_type": "code",
      "execution_count": 22,
      "metadata": {
        "colab": {
          "base_uri": "https://localhost:8080/",
          "height": 272
        },
        "id": "iDw_phKB_pyI",
        "outputId": "3ced2894-c6da-4cac-f887-2c544f38ab08"
      },
      "outputs": [
        {
          "data": {
            "text/plain": [
              "index              0\n",
              "year               0\n",
              "month              0\n",
              "state              0\n",
              "number_of_fires    0\n",
              "date               0\n",
              "dtype: int64"
            ]
          },
          "execution_count": 22,
          "metadata": {},
          "output_type": "execute_result"
        }
      ],
      "source": [
        "# Let's check and see it worked\n",
        "\n",
        "df.isnull().sum()"
      ]
    },
    {
      "cell_type": "code",
      "execution_count": 23,
      "metadata": {
        "colab": {
          "base_uri": "https://localhost:8080/",
          "height": 206
        },
        "id": "02Eq6B2U_s0T",
        "outputId": "aa0791cf-49ff-40ba-db6f-eb25baae5316"
      },
      "outputs": [
        {
          "data": {
            "text/html": [
              "<div>\n",
              "<style scoped>\n",
              "    .dataframe tbody tr th:only-of-type {\n",
              "        vertical-align: middle;\n",
              "    }\n",
              "\n",
              "    .dataframe tbody tr th {\n",
              "        vertical-align: top;\n",
              "    }\n",
              "\n",
              "    .dataframe thead th {\n",
              "        text-align: right;\n",
              "    }\n",
              "</style>\n",
              "<table border=\"1\" class=\"dataframe\">\n",
              "  <thead>\n",
              "    <tr style=\"text-align: right;\">\n",
              "      <th></th>\n",
              "      <th>year</th>\n",
              "      <th>month</th>\n",
              "      <th>state</th>\n",
              "      <th>number_of_fires</th>\n",
              "      <th>date</th>\n",
              "    </tr>\n",
              "  </thead>\n",
              "  <tbody>\n",
              "    <tr>\n",
              "      <th>0</th>\n",
              "      <td>1998</td>\n",
              "      <td>Janeiro</td>\n",
              "      <td>Acre</td>\n",
              "      <td>0</td>\n",
              "      <td>1/1/1998</td>\n",
              "    </tr>\n",
              "    <tr>\n",
              "      <th>1</th>\n",
              "      <td>1999</td>\n",
              "      <td>Janeiro</td>\n",
              "      <td>Acre</td>\n",
              "      <td>0</td>\n",
              "      <td>1/1/1999</td>\n",
              "    </tr>\n",
              "    <tr>\n",
              "      <th>2</th>\n",
              "      <td>2000</td>\n",
              "      <td>Janeiro</td>\n",
              "      <td>Acre</td>\n",
              "      <td>0</td>\n",
              "      <td>1/1/2000</td>\n",
              "    </tr>\n",
              "    <tr>\n",
              "      <th>3</th>\n",
              "      <td>2001</td>\n",
              "      <td>Janeiro</td>\n",
              "      <td>Acre</td>\n",
              "      <td>0</td>\n",
              "      <td>1/1/2001</td>\n",
              "    </tr>\n",
              "    <tr>\n",
              "      <th>4</th>\n",
              "      <td>2002</td>\n",
              "      <td>Janeiro</td>\n",
              "      <td>Acre</td>\n",
              "      <td>0</td>\n",
              "      <td>1/1/2002</td>\n",
              "    </tr>\n",
              "  </tbody>\n",
              "</table>\n",
              "</div>"
            ],
            "text/plain": [
              "   year    month state number_of_fires      date\n",
              "0  1998  Janeiro  Acre               0  1/1/1998\n",
              "1  1999  Janeiro  Acre               0  1/1/1999\n",
              "2  2000  Janeiro  Acre               0  1/1/2000\n",
              "3  2001  Janeiro  Acre               0  1/1/2001\n",
              "4  2002  Janeiro  Acre               0  1/1/2002"
            ]
          },
          "execution_count": 23,
          "metadata": {},
          "output_type": "execute_result"
        }
      ],
      "source": [
        "# Alright so it worked, now let's reload the data and look at a few other methods of dealing with NaN or Null values\n",
        "\n",
        "# Let's reload our dataframe\n",
        "file_name = \"https://raw.githubusercontent.com/rajeevratan84/datascienceforbusiness/master/amazon_fires.csv\"\n",
        "df = pd.read_csv(file_name, encoding = \"ISO-8859-1\")\n",
        "new_columns = {'ano' : 'year',\n",
        "               'estado': 'state',\n",
        "               'mes': 'month',\n",
        "               'numero': 'number_of_fires',\n",
        "               'encontro': 'date'}\n",
        "df.rename(columns = new_columns, inplace=True)\n",
        "df['number_of_fires'] = df['number_of_fires'].str.strip(\" Fires\")\n",
        "df_copy = df.copy()\n",
        "df.head()"
      ]
    },
    {
      "cell_type": "code",
      "execution_count": 24,
      "metadata": {
        "colab": {
          "base_uri": "https://localhost:8080/",
          "height": 458
        },
        "id": "Lnqw-EZT_wCw",
        "outputId": "68251332-fdc3-48e9-edeb-f1755f3dd296"
      },
      "outputs": [
        {
          "data": {
            "text/plain": [
              "0       False\n",
              "1       False\n",
              "2       False\n",
              "3       False\n",
              "4       False\n",
              "        ...  \n",
              "6449    False\n",
              "6450    False\n",
              "6451    False\n",
              "6452    False\n",
              "6453    False\n",
              "Name: number_of_fires, Length: 6454, dtype: bool"
            ]
          },
          "execution_count": 24,
          "metadata": {},
          "output_type": "execute_result"
        }
      ],
      "source": [
        "# Create a boolean index for all null values\n",
        "\n",
        "df['number_of_fires'].isnull()"
      ]
    },
    {
      "cell_type": "code",
      "execution_count": 25,
      "metadata": {
        "colab": {
          "base_uri": "https://localhost:8080/",
          "height": 363
        },
        "id": "x4dd3QRA_1Ut",
        "outputId": "c6e9374b-6a6d-47c3-f52e-af48c896de8b"
      },
      "outputs": [
        {
          "data": {
            "text/html": [
              "<div>\n",
              "<style scoped>\n",
              "    .dataframe tbody tr th:only-of-type {\n",
              "        vertical-align: middle;\n",
              "    }\n",
              "\n",
              "    .dataframe tbody tr th {\n",
              "        vertical-align: top;\n",
              "    }\n",
              "\n",
              "    .dataframe thead th {\n",
              "        text-align: right;\n",
              "    }\n",
              "</style>\n",
              "<table border=\"1\" class=\"dataframe\">\n",
              "  <thead>\n",
              "    <tr style=\"text-align: right;\">\n",
              "      <th></th>\n",
              "      <th>year</th>\n",
              "      <th>month</th>\n",
              "      <th>state</th>\n",
              "      <th>number_of_fires</th>\n",
              "      <th>date</th>\n",
              "    </tr>\n",
              "  </thead>\n",
              "  <tbody>\n",
              "    <tr>\n",
              "      <th>68</th>\n",
              "      <td>2006</td>\n",
              "      <td>Abril</td>\n",
              "      <td>Acre</td>\n",
              "      <td>NaN</td>\n",
              "      <td>1/1/2006</td>\n",
              "    </tr>\n",
              "    <tr>\n",
              "      <th>110</th>\n",
              "      <td>2008</td>\n",
              "      <td>Junho</td>\n",
              "      <td>Acre</td>\n",
              "      <td>NaN</td>\n",
              "      <td>1/1/2008</td>\n",
              "    </tr>\n",
              "    <tr>\n",
              "      <th>127</th>\n",
              "      <td>2005</td>\n",
              "      <td>Julho</td>\n",
              "      <td>Acre</td>\n",
              "      <td>NaN</td>\n",
              "      <td>1/1/2005</td>\n",
              "    </tr>\n",
              "    <tr>\n",
              "      <th>206</th>\n",
              "      <td>2004</td>\n",
              "      <td>Novembro</td>\n",
              "      <td>Acre</td>\n",
              "      <td>NaN</td>\n",
              "      <td>1/1/2004</td>\n",
              "    </tr>\n",
              "    <tr>\n",
              "      <th>217</th>\n",
              "      <td>2015</td>\n",
              "      <td>Novembro</td>\n",
              "      <td>Acre</td>\n",
              "      <td>NaN</td>\n",
              "      <td>1/1/2015</td>\n",
              "    </tr>\n",
              "    <tr>\n",
              "      <th>444</th>\n",
              "      <td>2002</td>\n",
              "      <td>Novembro</td>\n",
              "      <td>alagoas</td>\n",
              "      <td>NaN</td>\n",
              "      <td>1/1/2002</td>\n",
              "    </tr>\n",
              "    <tr>\n",
              "      <th>522</th>\n",
              "      <td>2001</td>\n",
              "      <td>Março</td>\n",
              "      <td>Amapa</td>\n",
              "      <td>NaN</td>\n",
              "      <td>1/1/2001</td>\n",
              "    </tr>\n",
              "    <tr>\n",
              "      <th>550</th>\n",
              "      <td>2009</td>\n",
              "      <td>Abril</td>\n",
              "      <td>Amapa</td>\n",
              "      <td>NaN</td>\n",
              "      <td>1/1/2009</td>\n",
              "    </tr>\n",
              "    <tr>\n",
              "      <th>614</th>\n",
              "      <td>2013</td>\n",
              "      <td>Julho</td>\n",
              "      <td>Amapa</td>\n",
              "      <td>NaN</td>\n",
              "      <td>1/1/2013</td>\n",
              "    </tr>\n",
              "    <tr>\n",
              "      <th>642</th>\n",
              "      <td>2001</td>\n",
              "      <td>Setembro</td>\n",
              "      <td>Amapa</td>\n",
              "      <td>NaN</td>\n",
              "      <td>1/1/2001</td>\n",
              "    </tr>\n",
              "  </tbody>\n",
              "</table>\n",
              "</div>"
            ],
            "text/plain": [
              "     year     month    state number_of_fires      date\n",
              "68   2006     Abril     Acre             NaN  1/1/2006\n",
              "110  2008     Junho     Acre             NaN  1/1/2008\n",
              "127  2005     Julho     Acre             NaN  1/1/2005\n",
              "206  2004  Novembro     Acre             NaN  1/1/2004\n",
              "217  2015  Novembro     Acre             NaN  1/1/2015\n",
              "444  2002  Novembro  alagoas             NaN  1/1/2002\n",
              "522  2001     Março    Amapa             NaN  1/1/2001\n",
              "550  2009     Abril    Amapa             NaN  1/1/2009\n",
              "614  2013     Julho    Amapa             NaN  1/1/2013\n",
              "642  2001  Setembro    Amapa             NaN  1/1/2001"
            ]
          },
          "execution_count": 25,
          "metadata": {},
          "output_type": "execute_result"
        }
      ],
      "source": [
        "df[df['number_of_fires'].isnull()].head(10)"
      ]
    },
    {
      "cell_type": "markdown",
      "metadata": {
        "id": "rseMvtNS_6dP"
      },
      "source": [
        "# What do to with missing data?\n",
        "\n",
        "* Remove them via .dropna(axis=0)\n",
        "* Replace them with some arbitary number (e.g. an average)\n",
        "* Replace them zeros, or Forward Fill (ffill) or Back Fill (backfill)"
      ]
    },
    {
      "cell_type": "code",
      "execution_count": 26,
      "metadata": {
        "colab": {
          "base_uri": "https://localhost:8080/",
          "height": 241
        },
        "id": "z9qgzcBI_74S",
        "outputId": "3250a860-d3ca-428c-e35f-88249be6ede3"
      },
      "outputs": [
        {
          "data": {
            "text/plain": [
              "0    0\n",
              "1    0\n",
              "2    0\n",
              "3    0\n",
              "4    0\n",
              "Name: number_of_fires, dtype: object"
            ]
          },
          "execution_count": 26,
          "metadata": {},
          "output_type": "execute_result"
        }
      ],
      "source": [
        "# Using fillna with zeros\n",
        "\n",
        "df['number_of_fires'].fillna(0).head()"
      ]
    },
    {
      "cell_type": "code",
      "execution_count": 27,
      "metadata": {
        "colab": {
          "base_uri": "https://localhost:8080/",
          "height": 494
        },
        "id": "Ungaw2Y9AAWJ",
        "outputId": "be453a76-d74c-460d-8a74-a3f2619c6eb2"
      },
      "outputs": [
        {
          "name": "stderr",
          "output_type": "stream",
          "text": [
            "C:\\Users\\harsh\\AppData\\Local\\Temp\\ipykernel_33688\\822284024.py:2: FutureWarning: Series.fillna with 'method' is deprecated and will raise in a future version. Use obj.ffill() or obj.bfill() instead.\n",
            "  df['number_of_fires'].fillna(method='ffill').head(70)\n"
          ]
        },
        {
          "data": {
            "text/plain": [
              "0     0\n",
              "1     0\n",
              "2     0\n",
              "3     0\n",
              "4     0\n",
              "     ..\n",
              "65    1\n",
              "66    2\n",
              "67    1\n",
              "68    1\n",
              "69    0\n",
              "Name: number_of_fires, Length: 70, dtype: object"
            ]
          },
          "execution_count": 27,
          "metadata": {},
          "output_type": "execute_result"
        }
      ],
      "source": [
        "# Let's try back filling\n",
        "df['number_of_fires'].fillna(method='ffill').head(70)"
      ]
    },
    {
      "cell_type": "code",
      "execution_count": 28,
      "metadata": {
        "colab": {
          "base_uri": "https://localhost:8080/",
          "height": 241
        },
        "id": "jCmLFWqwAJeo",
        "outputId": "da07af9d-163f-4307-a25c-a53fbc583ceb"
      },
      "outputs": [
        {
          "data": {
            "text/plain": [
              "year                   2002\n",
              "month              Novembro\n",
              "state               alagoas\n",
              "number_of_fires         NaN\n",
              "date               1/1/2002\n",
              "Name: 444, dtype: object"
            ]
          },
          "execution_count": 28,
          "metadata": {},
          "output_type": "execute_result"
        }
      ],
      "source": [
        "# View index 444 to see how it changes\n",
        "# Homework, change 444 using ffill and backfill to see how it changes\n",
        "df.iloc[444]"
      ]
    },
    {
      "cell_type": "code",
      "execution_count": 29,
      "metadata": {
        "colab": {
          "base_uri": "https://localhost:8080/",
          "height": 241
        },
        "id": "oa5Rbw9CAMOk",
        "outputId": "b8ed4747-7300-4a34-a795-23d77ce61320"
      },
      "outputs": [
        {
          "data": {
            "text/plain": [
              "year                   2003\n",
              "month              Novembro\n",
              "state               alagoas\n",
              "number_of_fires          17\n",
              "date               1/1/2003\n",
              "Name: 445, dtype: object"
            ]
          },
          "execution_count": 29,
          "metadata": {},
          "output_type": "execute_result"
        }
      ],
      "source": [
        "df.iloc[445]"
      ]
    },
    {
      "cell_type": "code",
      "execution_count": 30,
      "metadata": {
        "id": "n1b0jaHlAPIE"
      },
      "outputs": [],
      "source": [
        "# let's make the assumption that blank values are 0 fires\n",
        "\n",
        "# let's get back our copy of our original pre-processed datafrmae\n",
        "df = df_copy\n",
        "\n",
        "# replace all missing or NaN values with 0\n",
        "df['number_of_fires'] = df['number_of_fires'].fillna(0)"
      ]
    },
    {
      "cell_type": "code",
      "execution_count": 31,
      "metadata": {
        "colab": {
          "base_uri": "https://localhost:8080/",
          "height": 241
        },
        "id": "aGdVq_rOAR45",
        "outputId": "2c549bf7-cdd3-4000-9ce6-9fc5b49c6fd3"
      },
      "outputs": [
        {
          "data": {
            "text/plain": [
              "year                   2002\n",
              "month              Novembro\n",
              "state               alagoas\n",
              "number_of_fires           0\n",
              "date               1/1/2002\n",
              "Name: 444, dtype: object"
            ]
          },
          "execution_count": 31,
          "metadata": {},
          "output_type": "execute_result"
        }
      ],
      "source": [
        "# Let's check to see if we did change our Nans to 0s\n",
        "df.iloc[444]"
      ]
    },
    {
      "cell_type": "markdown",
      "metadata": {
        "id": "qJ4KOzFnAXb2"
      },
      "source": [
        "# Assigning data types to our columns"
      ]
    },
    {
      "cell_type": "code",
      "execution_count": 32,
      "metadata": {
        "colab": {
          "base_uri": "https://localhost:8080/"
        },
        "id": "jkNXumaiAYvo",
        "outputId": "c11a9ae6-ea99-4873-b267-1b4d35a09252"
      },
      "outputs": [
        {
          "name": "stdout",
          "output_type": "stream",
          "text": [
            "<class 'pandas.core.frame.DataFrame'>\n",
            "RangeIndex: 6454 entries, 0 to 6453\n",
            "Data columns (total 5 columns):\n",
            " #   Column           Non-Null Count  Dtype \n",
            "---  ------           --------------  ----- \n",
            " 0   year             6454 non-null   int64 \n",
            " 1   month            6454 non-null   object\n",
            " 2   state            6454 non-null   object\n",
            " 3   number_of_fires  6454 non-null   object\n",
            " 4   date             6454 non-null   object\n",
            "dtypes: int64(1), object(4)\n",
            "memory usage: 252.2+ KB\n"
          ]
        }
      ],
      "source": [
        "df.info()"
      ]
    },
    {
      "cell_type": "code",
      "execution_count": 33,
      "metadata": {
        "id": "737Ke15WAfM5"
      },
      "outputs": [],
      "source": [
        "df[\"number_of_fires\"] = df[\"number_of_fires\"].str.replace('','0').astype(float)"
      ]
    },
    {
      "cell_type": "code",
      "execution_count": 34,
      "metadata": {
        "colab": {
          "base_uri": "https://localhost:8080/",
          "height": 206
        },
        "id": "CV6_a09zAhk_",
        "outputId": "022f2a76-5578-4155-fabc-84e99c53c799"
      },
      "outputs": [
        {
          "data": {
            "text/html": [
              "<div>\n",
              "<style scoped>\n",
              "    .dataframe tbody tr th:only-of-type {\n",
              "        vertical-align: middle;\n",
              "    }\n",
              "\n",
              "    .dataframe tbody tr th {\n",
              "        vertical-align: top;\n",
              "    }\n",
              "\n",
              "    .dataframe thead th {\n",
              "        text-align: right;\n",
              "    }\n",
              "</style>\n",
              "<table border=\"1\" class=\"dataframe\">\n",
              "  <thead>\n",
              "    <tr style=\"text-align: right;\">\n",
              "      <th></th>\n",
              "      <th>year</th>\n",
              "      <th>month</th>\n",
              "      <th>state</th>\n",
              "      <th>number_of_fires</th>\n",
              "      <th>date</th>\n",
              "    </tr>\n",
              "  </thead>\n",
              "  <tbody>\n",
              "    <tr>\n",
              "      <th>0</th>\n",
              "      <td>1998</td>\n",
              "      <td>Janeiro</td>\n",
              "      <td>Acre</td>\n",
              "      <td>0.0</td>\n",
              "      <td>1/1/1998</td>\n",
              "    </tr>\n",
              "    <tr>\n",
              "      <th>1</th>\n",
              "      <td>1999</td>\n",
              "      <td>Janeiro</td>\n",
              "      <td>Acre</td>\n",
              "      <td>0.0</td>\n",
              "      <td>1/1/1999</td>\n",
              "    </tr>\n",
              "    <tr>\n",
              "      <th>2</th>\n",
              "      <td>2000</td>\n",
              "      <td>Janeiro</td>\n",
              "      <td>Acre</td>\n",
              "      <td>0.0</td>\n",
              "      <td>1/1/2000</td>\n",
              "    </tr>\n",
              "    <tr>\n",
              "      <th>3</th>\n",
              "      <td>2001</td>\n",
              "      <td>Janeiro</td>\n",
              "      <td>Acre</td>\n",
              "      <td>0.0</td>\n",
              "      <td>1/1/2001</td>\n",
              "    </tr>\n",
              "    <tr>\n",
              "      <th>4</th>\n",
              "      <td>2002</td>\n",
              "      <td>Janeiro</td>\n",
              "      <td>Acre</td>\n",
              "      <td>0.0</td>\n",
              "      <td>1/1/2002</td>\n",
              "    </tr>\n",
              "  </tbody>\n",
              "</table>\n",
              "</div>"
            ],
            "text/plain": [
              "   year    month state  number_of_fires      date\n",
              "0  1998  Janeiro  Acre              0.0  1/1/1998\n",
              "1  1999  Janeiro  Acre              0.0  1/1/1999\n",
              "2  2000  Janeiro  Acre              0.0  1/1/2000\n",
              "3  2001  Janeiro  Acre              0.0  1/1/2001\n",
              "4  2002  Janeiro  Acre              0.0  1/1/2002"
            ]
          },
          "execution_count": 34,
          "metadata": {},
          "output_type": "execute_result"
        }
      ],
      "source": [
        "df.head()"
      ]
    },
    {
      "cell_type": "code",
      "execution_count": 35,
      "metadata": {
        "colab": {
          "base_uri": "https://localhost:8080/"
        },
        "id": "sA71T3DCAlq-",
        "outputId": "5a436f77-e49e-4ea3-e926-d985fad983cb"
      },
      "outputs": [
        {
          "name": "stdout",
          "output_type": "stream",
          "text": [
            "<class 'pandas.core.frame.DataFrame'>\n",
            "RangeIndex: 6454 entries, 0 to 6453\n",
            "Data columns (total 5 columns):\n",
            " #   Column           Non-Null Count  Dtype  \n",
            "---  ------           --------------  -----  \n",
            " 0   year             6454 non-null   int64  \n",
            " 1   month            6454 non-null   object \n",
            " 2   state            6454 non-null   object \n",
            " 3   number_of_fires  6322 non-null   float64\n",
            " 4   date             6454 non-null   object \n",
            "dtypes: float64(1), int64(1), object(3)\n",
            "memory usage: 252.2+ KB\n"
          ]
        }
      ],
      "source": [
        "df.info()"
      ]
    },
    {
      "cell_type": "code",
      "execution_count": 36,
      "metadata": {
        "colab": {
          "base_uri": "https://localhost:8080/"
        },
        "id": "6ytL2bOMAp8b",
        "outputId": "953fafb3-eb6b-40a5-d0b4-2d7ad9ac6fe5"
      },
      "outputs": [
        {
          "data": {
            "text/plain": [
              "array(['Janeiro', 'Fevereiro', 'Março', 'Abril', 'Maio', 'Junho', 'Julho',\n",
              "       'Agosto', 'Setembro', 'Outubro', 'Novembro', 'Dezembro'],\n",
              "      dtype=object)"
            ]
          },
          "execution_count": 36,
          "metadata": {},
          "output_type": "execute_result"
        }
      ],
      "source": [
        "df['month'].unique()"
      ]
    },
    {
      "cell_type": "markdown",
      "metadata": {
        "id": "D3UKFoCPAs8c"
      },
      "source": [
        "# Replacing text in columns"
      ]
    },
    {
      "cell_type": "code",
      "execution_count": 37,
      "metadata": {
        "colab": {
          "base_uri": "https://localhost:8080/",
          "height": 206
        },
        "id": "JDx-fhLXAtzh",
        "outputId": "7c4c0252-d10a-4526-a577-6e9feb81b9b7"
      },
      "outputs": [
        {
          "data": {
            "text/html": [
              "<div>\n",
              "<style scoped>\n",
              "    .dataframe tbody tr th:only-of-type {\n",
              "        vertical-align: middle;\n",
              "    }\n",
              "\n",
              "    .dataframe tbody tr th {\n",
              "        vertical-align: top;\n",
              "    }\n",
              "\n",
              "    .dataframe thead th {\n",
              "        text-align: right;\n",
              "    }\n",
              "</style>\n",
              "<table border=\"1\" class=\"dataframe\">\n",
              "  <thead>\n",
              "    <tr style=\"text-align: right;\">\n",
              "      <th></th>\n",
              "      <th>year</th>\n",
              "      <th>month</th>\n",
              "      <th>state</th>\n",
              "      <th>number_of_fires</th>\n",
              "      <th>date</th>\n",
              "    </tr>\n",
              "  </thead>\n",
              "  <tbody>\n",
              "    <tr>\n",
              "      <th>0</th>\n",
              "      <td>1998</td>\n",
              "      <td>January</td>\n",
              "      <td>Acre</td>\n",
              "      <td>0.0</td>\n",
              "      <td>1/1/1998</td>\n",
              "    </tr>\n",
              "    <tr>\n",
              "      <th>1</th>\n",
              "      <td>1999</td>\n",
              "      <td>January</td>\n",
              "      <td>Acre</td>\n",
              "      <td>0.0</td>\n",
              "      <td>1/1/1999</td>\n",
              "    </tr>\n",
              "    <tr>\n",
              "      <th>2</th>\n",
              "      <td>2000</td>\n",
              "      <td>January</td>\n",
              "      <td>Acre</td>\n",
              "      <td>0.0</td>\n",
              "      <td>1/1/2000</td>\n",
              "    </tr>\n",
              "    <tr>\n",
              "      <th>3</th>\n",
              "      <td>2001</td>\n",
              "      <td>January</td>\n",
              "      <td>Acre</td>\n",
              "      <td>0.0</td>\n",
              "      <td>1/1/2001</td>\n",
              "    </tr>\n",
              "    <tr>\n",
              "      <th>4</th>\n",
              "      <td>2002</td>\n",
              "      <td>January</td>\n",
              "      <td>Acre</td>\n",
              "      <td>0.0</td>\n",
              "      <td>1/1/2002</td>\n",
              "    </tr>\n",
              "  </tbody>\n",
              "</table>\n",
              "</div>"
            ],
            "text/plain": [
              "   year    month state  number_of_fires      date\n",
              "0  1998  January  Acre              0.0  1/1/1998\n",
              "1  1999  January  Acre              0.0  1/1/1999\n",
              "2  2000  January  Acre              0.0  1/1/2000\n",
              "3  2001  January  Acre              0.0  1/1/2001\n",
              "4  2002  January  Acre              0.0  1/1/2002"
            ]
          },
          "execution_count": 37,
          "metadata": {},
          "output_type": "execute_result"
        }
      ],
      "source": [
        "# Let's convert our Portuguese month names to English\n",
        "\n",
        "month_translations = {'Janeiro': 'January',\n",
        "'Fevereiro': 'February',\n",
        "'Março': 'March',\n",
        "'Abril': 'April',\n",
        "'Maio': 'May',\n",
        "'Junho': 'June',\n",
        "'Julho': 'July',\n",
        "'Agosto': 'August',\n",
        "'Setembro': 'September',\n",
        "'Outubro': 'October',\n",
        "'Novembro': 'November',\n",
        "'Dezembro': 'December'}\n",
        "\n",
        "df[\"month\"] = df[\"month\"].map(month_translations)\n",
        "df.head()"
      ]
    },
    {
      "cell_type": "code",
      "execution_count": 38,
      "metadata": {
        "colab": {
          "base_uri": "https://localhost:8080/",
          "height": 241
        },
        "id": "85JU_a_0AziR",
        "outputId": "c0089e31-4861-4218-c574-cc4c12cbf359"
      },
      "outputs": [
        {
          "data": {
            "text/plain": [
              "year                 0\n",
              "month                0\n",
              "state                0\n",
              "number_of_fires    132\n",
              "date                 0\n",
              "dtype: int64"
            ]
          },
          "execution_count": 38,
          "metadata": {},
          "output_type": "execute_result"
        }
      ],
      "source": [
        "df.isnull().sum()"
      ]
    },
    {
      "cell_type": "markdown",
      "metadata": {
        "id": "sUWPPf0oA3Hg"
      },
      "source": [
        "# Further string functions on columns"
      ]
    },
    {
      "cell_type": "code",
      "execution_count": 39,
      "metadata": {
        "colab": {
          "base_uri": "https://localhost:8080/"
        },
        "id": "83rJK5ALA4DN",
        "outputId": "e9f10181-3d40-4de9-8333-f9492b814176"
      },
      "outputs": [
        {
          "data": {
            "text/plain": [
              "array(['Acre', 'Alagoas', 'Amapa', 'Amazonas', 'Bahia', 'Ceara',\n",
              "       'Distrito Federal', 'Espirito Santo', 'Goias', 'Maranhao',\n",
              "       'Mato Grosso', 'Minas Gerais', 'Pará', 'Paraiba', 'Pernambuco',\n",
              "       'Piau', 'Rio', 'Rondonia', 'Roraima', 'Santa Catarina',\n",
              "       'Sao Paulo', 'Sergipe', 'Tocantins'], dtype=object)"
            ]
          },
          "execution_count": 39,
          "metadata": {},
          "output_type": "execute_result"
        }
      ],
      "source": [
        "df['state'] = df['state'].str.title()\n",
        "df['state'].unique()"
      ]
    },
    {
      "cell_type": "markdown",
      "metadata": {
        "id": "Bx7sSKW7A_T_"
      },
      "source": [
        "# Removing columns"
      ]
    },
    {
      "cell_type": "code",
      "execution_count": 40,
      "metadata": {
        "colab": {
          "base_uri": "https://localhost:8080/",
          "height": 206
        },
        "id": "Nahwarf8BAuj",
        "outputId": "b6fc4a39-64a0-4e12-f43e-454b5f5aee36"
      },
      "outputs": [
        {
          "data": {
            "text/html": [
              "<div>\n",
              "<style scoped>\n",
              "    .dataframe tbody tr th:only-of-type {\n",
              "        vertical-align: middle;\n",
              "    }\n",
              "\n",
              "    .dataframe tbody tr th {\n",
              "        vertical-align: top;\n",
              "    }\n",
              "\n",
              "    .dataframe thead th {\n",
              "        text-align: right;\n",
              "    }\n",
              "</style>\n",
              "<table border=\"1\" class=\"dataframe\">\n",
              "  <thead>\n",
              "    <tr style=\"text-align: right;\">\n",
              "      <th></th>\n",
              "      <th>year</th>\n",
              "      <th>month</th>\n",
              "      <th>state</th>\n",
              "      <th>number_of_fires</th>\n",
              "      <th>date</th>\n",
              "    </tr>\n",
              "  </thead>\n",
              "  <tbody>\n",
              "    <tr>\n",
              "      <th>0</th>\n",
              "      <td>1998</td>\n",
              "      <td>January</td>\n",
              "      <td>Acre</td>\n",
              "      <td>0.0</td>\n",
              "      <td>1/1/1998</td>\n",
              "    </tr>\n",
              "    <tr>\n",
              "      <th>1</th>\n",
              "      <td>1999</td>\n",
              "      <td>January</td>\n",
              "      <td>Acre</td>\n",
              "      <td>0.0</td>\n",
              "      <td>1/1/1999</td>\n",
              "    </tr>\n",
              "    <tr>\n",
              "      <th>2</th>\n",
              "      <td>2000</td>\n",
              "      <td>January</td>\n",
              "      <td>Acre</td>\n",
              "      <td>0.0</td>\n",
              "      <td>1/1/2000</td>\n",
              "    </tr>\n",
              "    <tr>\n",
              "      <th>3</th>\n",
              "      <td>2001</td>\n",
              "      <td>January</td>\n",
              "      <td>Acre</td>\n",
              "      <td>0.0</td>\n",
              "      <td>1/1/2001</td>\n",
              "    </tr>\n",
              "    <tr>\n",
              "      <th>4</th>\n",
              "      <td>2002</td>\n",
              "      <td>January</td>\n",
              "      <td>Acre</td>\n",
              "      <td>0.0</td>\n",
              "      <td>1/1/2002</td>\n",
              "    </tr>\n",
              "  </tbody>\n",
              "</table>\n",
              "</div>"
            ],
            "text/plain": [
              "   year    month state  number_of_fires      date\n",
              "0  1998  January  Acre              0.0  1/1/1998\n",
              "1  1999  January  Acre              0.0  1/1/1999\n",
              "2  2000  January  Acre              0.0  1/1/2000\n",
              "3  2001  January  Acre              0.0  1/1/2001\n",
              "4  2002  January  Acre              0.0  1/1/2002"
            ]
          },
          "execution_count": 40,
          "metadata": {},
          "output_type": "execute_result"
        }
      ],
      "source": [
        "df.head()"
      ]
    },
    {
      "cell_type": "code",
      "execution_count": 41,
      "metadata": {
        "colab": {
          "base_uri": "https://localhost:8080/",
          "height": 206
        },
        "id": "WdQ2_Z6vBF2M",
        "outputId": "c74bbba2-8145-41da-a1d6-722161b87400"
      },
      "outputs": [
        {
          "data": {
            "text/html": [
              "<div>\n",
              "<style scoped>\n",
              "    .dataframe tbody tr th:only-of-type {\n",
              "        vertical-align: middle;\n",
              "    }\n",
              "\n",
              "    .dataframe tbody tr th {\n",
              "        vertical-align: top;\n",
              "    }\n",
              "\n",
              "    .dataframe thead th {\n",
              "        text-align: right;\n",
              "    }\n",
              "</style>\n",
              "<table border=\"1\" class=\"dataframe\">\n",
              "  <thead>\n",
              "    <tr style=\"text-align: right;\">\n",
              "      <th></th>\n",
              "      <th>year</th>\n",
              "      <th>month</th>\n",
              "      <th>state</th>\n",
              "      <th>number_of_fires</th>\n",
              "    </tr>\n",
              "  </thead>\n",
              "  <tbody>\n",
              "    <tr>\n",
              "      <th>0</th>\n",
              "      <td>1998</td>\n",
              "      <td>January</td>\n",
              "      <td>Acre</td>\n",
              "      <td>0.0</td>\n",
              "    </tr>\n",
              "    <tr>\n",
              "      <th>1</th>\n",
              "      <td>1999</td>\n",
              "      <td>January</td>\n",
              "      <td>Acre</td>\n",
              "      <td>0.0</td>\n",
              "    </tr>\n",
              "    <tr>\n",
              "      <th>2</th>\n",
              "      <td>2000</td>\n",
              "      <td>January</td>\n",
              "      <td>Acre</td>\n",
              "      <td>0.0</td>\n",
              "    </tr>\n",
              "    <tr>\n",
              "      <th>3</th>\n",
              "      <td>2001</td>\n",
              "      <td>January</td>\n",
              "      <td>Acre</td>\n",
              "      <td>0.0</td>\n",
              "    </tr>\n",
              "    <tr>\n",
              "      <th>4</th>\n",
              "      <td>2002</td>\n",
              "      <td>January</td>\n",
              "      <td>Acre</td>\n",
              "      <td>0.0</td>\n",
              "    </tr>\n",
              "  </tbody>\n",
              "</table>\n",
              "</div>"
            ],
            "text/plain": [
              "   year    month state  number_of_fires\n",
              "0  1998  January  Acre              0.0\n",
              "1  1999  January  Acre              0.0\n",
              "2  2000  January  Acre              0.0\n",
              "3  2001  January  Acre              0.0\n",
              "4  2002  January  Acre              0.0"
            ]
          },
          "execution_count": 41,
          "metadata": {},
          "output_type": "execute_result"
        }
      ],
      "source": [
        "# Dropping multiple columns\n",
        "df = df.drop(\"date\", axis=1) # axis = 1 so that it works across our columns\n",
        "df.head()"
      ]
    },
    {
      "cell_type": "code",
      "execution_count": 42,
      "metadata": {
        "colab": {
          "base_uri": "https://localhost:8080/",
          "height": 206
        },
        "id": "KUrGgS1MBOGN",
        "outputId": "f0f8ed4b-f483-420e-e6b1-ad2c2fdc9d27"
      },
      "outputs": [
        {
          "data": {
            "text/html": [
              "<div>\n",
              "<style scoped>\n",
              "    .dataframe tbody tr th:only-of-type {\n",
              "        vertical-align: middle;\n",
              "    }\n",
              "\n",
              "    .dataframe tbody tr th {\n",
              "        vertical-align: top;\n",
              "    }\n",
              "\n",
              "    .dataframe thead th {\n",
              "        text-align: right;\n",
              "    }\n",
              "</style>\n",
              "<table border=\"1\" class=\"dataframe\">\n",
              "  <thead>\n",
              "    <tr style=\"text-align: right;\">\n",
              "      <th></th>\n",
              "      <th>year</th>\n",
              "      <th>month</th>\n",
              "      <th>state</th>\n",
              "      <th>number_of_fires</th>\n",
              "      <th>date</th>\n",
              "    </tr>\n",
              "  </thead>\n",
              "  <tbody>\n",
              "    <tr>\n",
              "      <th>0</th>\n",
              "      <td>1998</td>\n",
              "      <td>Janeiro</td>\n",
              "      <td>Acre</td>\n",
              "      <td>0</td>\n",
              "      <td>1/1/1998</td>\n",
              "    </tr>\n",
              "    <tr>\n",
              "      <th>1</th>\n",
              "      <td>1999</td>\n",
              "      <td>Janeiro</td>\n",
              "      <td>Acre</td>\n",
              "      <td>0</td>\n",
              "      <td>1/1/1999</td>\n",
              "    </tr>\n",
              "    <tr>\n",
              "      <th>2</th>\n",
              "      <td>2000</td>\n",
              "      <td>Janeiro</td>\n",
              "      <td>Acre</td>\n",
              "      <td>0</td>\n",
              "      <td>1/1/2000</td>\n",
              "    </tr>\n",
              "    <tr>\n",
              "      <th>3</th>\n",
              "      <td>2001</td>\n",
              "      <td>Janeiro</td>\n",
              "      <td>Acre</td>\n",
              "      <td>0</td>\n",
              "      <td>1/1/2001</td>\n",
              "    </tr>\n",
              "    <tr>\n",
              "      <th>4</th>\n",
              "      <td>2002</td>\n",
              "      <td>Janeiro</td>\n",
              "      <td>Acre</td>\n",
              "      <td>0</td>\n",
              "      <td>1/1/2002</td>\n",
              "    </tr>\n",
              "  </tbody>\n",
              "</table>\n",
              "</div>"
            ],
            "text/plain": [
              "   year    month state number_of_fires      date\n",
              "0  1998  Janeiro  Acre               0  1/1/1998\n",
              "1  1999  Janeiro  Acre               0  1/1/1999\n",
              "2  2000  Janeiro  Acre               0  1/1/2000\n",
              "3  2001  Janeiro  Acre               0  1/1/2001\n",
              "4  2002  Janeiro  Acre               0  1/1/2002"
            ]
          },
          "execution_count": 42,
          "metadata": {},
          "output_type": "execute_result"
        }
      ],
      "source": [
        "# Let's reload the data\n",
        "\n",
        "# Let's reload our dataframe\n",
        "file_name = \"https://github.com/har5hdeep5harma/RealWorld-DSAI-Ledger/raw/refs/heads/main/Data,%20Image%20and%20Reference%20Files/amazon_fires.csv\"\n",
        "df = pd.read_csv(file_name, encoding = \"ISO-8859-1\")\n",
        "new_columns = {'ano' : 'year',\n",
        "               'estado': 'state',\n",
        "               'mes': 'month',\n",
        "               'numero': 'number_of_fires',\n",
        "               'encontro': 'date'}\n",
        "df.rename(columns = new_columns, inplace=True)\n",
        "df['number_of_fires'] = df['number_of_fires'].str.strip(\" Fires\")\n",
        "df_copy = df.copy()\n",
        "df.head()"
      ]
    },
    {
      "cell_type": "code",
      "execution_count": 43,
      "metadata": {
        "colab": {
          "base_uri": "https://localhost:8080/",
          "height": 206
        },
        "id": "QZjQ2-FDBu9j",
        "outputId": "0b2a8f69-0b08-47ce-9a47-4595e9531a76"
      },
      "outputs": [
        {
          "data": {
            "text/html": [
              "<div>\n",
              "<style scoped>\n",
              "    .dataframe tbody tr th:only-of-type {\n",
              "        vertical-align: middle;\n",
              "    }\n",
              "\n",
              "    .dataframe tbody tr th {\n",
              "        vertical-align: top;\n",
              "    }\n",
              "\n",
              "    .dataframe thead th {\n",
              "        text-align: right;\n",
              "    }\n",
              "</style>\n",
              "<table border=\"1\" class=\"dataframe\">\n",
              "  <thead>\n",
              "    <tr style=\"text-align: right;\">\n",
              "      <th></th>\n",
              "      <th>month</th>\n",
              "      <th>state</th>\n",
              "      <th>number_of_fires</th>\n",
              "    </tr>\n",
              "  </thead>\n",
              "  <tbody>\n",
              "    <tr>\n",
              "      <th>0</th>\n",
              "      <td>Janeiro</td>\n",
              "      <td>Acre</td>\n",
              "      <td>0</td>\n",
              "    </tr>\n",
              "    <tr>\n",
              "      <th>1</th>\n",
              "      <td>Janeiro</td>\n",
              "      <td>Acre</td>\n",
              "      <td>0</td>\n",
              "    </tr>\n",
              "    <tr>\n",
              "      <th>2</th>\n",
              "      <td>Janeiro</td>\n",
              "      <td>Acre</td>\n",
              "      <td>0</td>\n",
              "    </tr>\n",
              "    <tr>\n",
              "      <th>3</th>\n",
              "      <td>Janeiro</td>\n",
              "      <td>Acre</td>\n",
              "      <td>0</td>\n",
              "    </tr>\n",
              "    <tr>\n",
              "      <th>4</th>\n",
              "      <td>Janeiro</td>\n",
              "      <td>Acre</td>\n",
              "      <td>0</td>\n",
              "    </tr>\n",
              "  </tbody>\n",
              "</table>\n",
              "</div>"
            ],
            "text/plain": [
              "     month state number_of_fires\n",
              "0  Janeiro  Acre               0\n",
              "1  Janeiro  Acre               0\n",
              "2  Janeiro  Acre               0\n",
              "3  Janeiro  Acre               0\n",
              "4  Janeiro  Acre               0"
            ]
          },
          "execution_count": 43,
          "metadata": {},
          "output_type": "execute_result"
        }
      ],
      "source": [
        "# Drop multiple columns\n",
        "df = df.drop([\"year\", \"date\"], axis=1)\n",
        "df.head()"
      ]
    },
    {
      "cell_type": "markdown",
      "metadata": {
        "id": "o7nTnB1wB1A-"
      },
      "source": [
        "# Dropping Rows\n",
        "\n",
        "Using the df.index function"
      ]
    },
    {
      "cell_type": "code",
      "execution_count": 44,
      "metadata": {
        "colab": {
          "base_uri": "https://localhost:8080/",
          "height": 206
        },
        "id": "77xsOETKB2PJ",
        "outputId": "02da45e0-8427-4af8-d560-cd075991b75d"
      },
      "outputs": [
        {
          "data": {
            "text/html": [
              "<div>\n",
              "<style scoped>\n",
              "    .dataframe tbody tr th:only-of-type {\n",
              "        vertical-align: middle;\n",
              "    }\n",
              "\n",
              "    .dataframe tbody tr th {\n",
              "        vertical-align: top;\n",
              "    }\n",
              "\n",
              "    .dataframe thead th {\n",
              "        text-align: right;\n",
              "    }\n",
              "</style>\n",
              "<table border=\"1\" class=\"dataframe\">\n",
              "  <thead>\n",
              "    <tr style=\"text-align: right;\">\n",
              "      <th></th>\n",
              "      <th>index</th>\n",
              "      <th>month</th>\n",
              "      <th>state</th>\n",
              "      <th>number_of_fires</th>\n",
              "    </tr>\n",
              "  </thead>\n",
              "  <tbody>\n",
              "    <tr>\n",
              "      <th>0</th>\n",
              "      <td>1</td>\n",
              "      <td>Janeiro</td>\n",
              "      <td>Acre</td>\n",
              "      <td>0</td>\n",
              "    </tr>\n",
              "    <tr>\n",
              "      <th>1</th>\n",
              "      <td>2</td>\n",
              "      <td>Janeiro</td>\n",
              "      <td>Acre</td>\n",
              "      <td>0</td>\n",
              "    </tr>\n",
              "    <tr>\n",
              "      <th>2</th>\n",
              "      <td>3</td>\n",
              "      <td>Janeiro</td>\n",
              "      <td>Acre</td>\n",
              "      <td>0</td>\n",
              "    </tr>\n",
              "    <tr>\n",
              "      <th>3</th>\n",
              "      <td>4</td>\n",
              "      <td>Janeiro</td>\n",
              "      <td>Acre</td>\n",
              "      <td>0</td>\n",
              "    </tr>\n",
              "    <tr>\n",
              "      <th>4</th>\n",
              "      <td>5</td>\n",
              "      <td>Janeiro</td>\n",
              "      <td>Acre</td>\n",
              "      <td>10</td>\n",
              "    </tr>\n",
              "  </tbody>\n",
              "</table>\n",
              "</div>"
            ],
            "text/plain": [
              "   index    month state number_of_fires\n",
              "0      1  Janeiro  Acre               0\n",
              "1      2  Janeiro  Acre               0\n",
              "2      3  Janeiro  Acre               0\n",
              "3      4  Janeiro  Acre               0\n",
              "4      5  Janeiro  Acre              10"
            ]
          },
          "execution_count": 44,
          "metadata": {},
          "output_type": "execute_result"
        }
      ],
      "source": [
        "# Let's drop the first row\n",
        "df = df.drop(df.index[0])\n",
        "df = df.reset_index()\n",
        "df.head()"
      ]
    },
    {
      "cell_type": "code",
      "execution_count": 45,
      "metadata": {
        "colab": {
          "base_uri": "https://localhost:8080/",
          "height": 206
        },
        "id": "gsF5I7dwB65i",
        "outputId": "fc61345c-3919-48c8-8004-c369c761e332"
      },
      "outputs": [
        {
          "data": {
            "text/html": [
              "<div>\n",
              "<style scoped>\n",
              "    .dataframe tbody tr th:only-of-type {\n",
              "        vertical-align: middle;\n",
              "    }\n",
              "\n",
              "    .dataframe tbody tr th {\n",
              "        vertical-align: top;\n",
              "    }\n",
              "\n",
              "    .dataframe thead th {\n",
              "        text-align: right;\n",
              "    }\n",
              "</style>\n",
              "<table border=\"1\" class=\"dataframe\">\n",
              "  <thead>\n",
              "    <tr style=\"text-align: right;\">\n",
              "      <th></th>\n",
              "      <th>index</th>\n",
              "      <th>month</th>\n",
              "      <th>state</th>\n",
              "      <th>number_of_fires</th>\n",
              "    </tr>\n",
              "  </thead>\n",
              "  <tbody>\n",
              "    <tr>\n",
              "      <th>0</th>\n",
              "      <td>1</td>\n",
              "      <td>Janeiro</td>\n",
              "      <td>Acre</td>\n",
              "      <td>0</td>\n",
              "    </tr>\n",
              "    <tr>\n",
              "      <th>1</th>\n",
              "      <td>2</td>\n",
              "      <td>Janeiro</td>\n",
              "      <td>Acre</td>\n",
              "      <td>0</td>\n",
              "    </tr>\n",
              "    <tr>\n",
              "      <th>4</th>\n",
              "      <td>5</td>\n",
              "      <td>Janeiro</td>\n",
              "      <td>Acre</td>\n",
              "      <td>10</td>\n",
              "    </tr>\n",
              "    <tr>\n",
              "      <th>5</th>\n",
              "      <td>6</td>\n",
              "      <td>Janeiro</td>\n",
              "      <td>Acre</td>\n",
              "      <td>0</td>\n",
              "    </tr>\n",
              "    <tr>\n",
              "      <th>6</th>\n",
              "      <td>7</td>\n",
              "      <td>Janeiro</td>\n",
              "      <td>Acre</td>\n",
              "      <td>12</td>\n",
              "    </tr>\n",
              "  </tbody>\n",
              "</table>\n",
              "</div>"
            ],
            "text/plain": [
              "   index    month state number_of_fires\n",
              "0      1  Janeiro  Acre               0\n",
              "1      2  Janeiro  Acre               0\n",
              "4      5  Janeiro  Acre              10\n",
              "5      6  Janeiro  Acre               0\n",
              "6      7  Janeiro  Acre              12"
            ]
          },
          "execution_count": 45,
          "metadata": {},
          "output_type": "execute_result"
        }
      ],
      "source": [
        "# Drop multiple rows\n",
        "\n",
        "df = df.drop(df.index[[2,3]])\n",
        "df.head()"
      ]
    },
    {
      "cell_type": "code",
      "execution_count": 46,
      "metadata": {
        "colab": {
          "base_uri": "https://localhost:8080/",
          "height": 206
        },
        "id": "7js9w3QsB_Ow",
        "outputId": "0d441fcd-6c0c-4e66-b5f4-0ffe3d9603de"
      },
      "outputs": [
        {
          "data": {
            "text/html": [
              "<div>\n",
              "<style scoped>\n",
              "    .dataframe tbody tr th:only-of-type {\n",
              "        vertical-align: middle;\n",
              "    }\n",
              "\n",
              "    .dataframe tbody tr th {\n",
              "        vertical-align: top;\n",
              "    }\n",
              "\n",
              "    .dataframe thead th {\n",
              "        text-align: right;\n",
              "    }\n",
              "</style>\n",
              "<table border=\"1\" class=\"dataframe\">\n",
              "  <thead>\n",
              "    <tr style=\"text-align: right;\">\n",
              "      <th></th>\n",
              "      <th>index</th>\n",
              "      <th>month</th>\n",
              "      <th>state</th>\n",
              "      <th>number_of_fires</th>\n",
              "    </tr>\n",
              "  </thead>\n",
              "  <tbody>\n",
              "    <tr>\n",
              "      <th>0</th>\n",
              "      <td>1</td>\n",
              "      <td>Janeiro</td>\n",
              "      <td>Acre</td>\n",
              "      <td>0</td>\n",
              "    </tr>\n",
              "    <tr>\n",
              "      <th>6</th>\n",
              "      <td>7</td>\n",
              "      <td>Janeiro</td>\n",
              "      <td>Acre</td>\n",
              "      <td>12</td>\n",
              "    </tr>\n",
              "    <tr>\n",
              "      <th>7</th>\n",
              "      <td>8</td>\n",
              "      <td>Janeiro</td>\n",
              "      <td>Acre</td>\n",
              "      <td>4</td>\n",
              "    </tr>\n",
              "    <tr>\n",
              "      <th>8</th>\n",
              "      <td>9</td>\n",
              "      <td>Janeiro</td>\n",
              "      <td>Acre</td>\n",
              "      <td>0</td>\n",
              "    </tr>\n",
              "    <tr>\n",
              "      <th>9</th>\n",
              "      <td>10</td>\n",
              "      <td>Janeiro</td>\n",
              "      <td>Acre</td>\n",
              "      <td>0</td>\n",
              "    </tr>\n",
              "  </tbody>\n",
              "</table>\n",
              "</div>"
            ],
            "text/plain": [
              "   index    month state number_of_fires\n",
              "0      1  Janeiro  Acre               0\n",
              "6      7  Janeiro  Acre              12\n",
              "7      8  Janeiro  Acre               4\n",
              "8      9  Janeiro  Acre               0\n",
              "9     10  Janeiro  Acre               0"
            ]
          },
          "execution_count": 46,
          "metadata": {},
          "output_type": "execute_result"
        }
      ],
      "source": [
        "# Drop a range of rows\n",
        "\n",
        "df = df.drop(df.index[1:4])\n",
        "df.head()"
      ]
    }
  ],
  "metadata": {
    "colab": {
      "provenance": []
    },
    "kernelspec": {
      "display_name": "Python 3",
      "name": "python3"
    },
    "language_info": {
      "codemirror_mode": {
        "name": "ipython",
        "version": 3
      },
      "file_extension": ".py",
      "mimetype": "text/x-python",
      "name": "python",
      "nbconvert_exporter": "python",
      "pygments_lexer": "ipython3",
      "version": "3.12.4"
    }
  },
  "nbformat": 4,
  "nbformat_minor": 0
}
