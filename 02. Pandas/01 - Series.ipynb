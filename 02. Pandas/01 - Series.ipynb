{
 "cells": [
  {
   "cell_type": "markdown",
   "metadata": {
    "colab_type": "text",
    "id": "aLUDvwSE92oI"
   },
   "source": [
    "# Introduction to Pandas"
   ]
  },
  {
   "cell_type": "code",
   "execution_count": 43,
   "metadata": {
    "colab": {},
    "colab_type": "code",
    "id": "nXh-NdED96re"
   },
   "outputs": [],
   "source": [
    "import pandas as pd"
   ]
  },
  {
   "cell_type": "markdown",
   "metadata": {
    "colab_type": "text",
    "id": "dL4fJtuh-Aux"
   },
   "source": [
    "### Let's learn about Pandas Series firstly"
   ]
  },
  {
   "cell_type": "code",
   "execution_count": 44,
   "metadata": {
    "colab": {
     "base_uri": "https://localhost:8080/",
     "height": 35
    },
    "colab_type": "code",
    "executionInfo": {
     "elapsed": 364,
     "status": "ok",
     "timestamp": 1569575763112,
     "user": {
      "displayName": "Harshdeep Sharma ",
      "photoUrl": "https://lh3.googleusercontent.com/a/ACg8ocKlMSxdcxZ7zj-VJ7Uw-aTNTgXXO713_TriQwVjGBax0kp8Lu6v=s576-c-no",
      "userId": "0"
     },
     "user_tz": -60
    },
    "id": "gOIetPzI-CtF",
    "outputId": "f51088bf-21e0-4f41-86e2-0fd5b1d5823c"
   },
   "outputs": [
    {
     "data": {
      "text/plain": [
       "[13, 41, 53, 37, 62, 16, 41]"
      ]
     },
     "execution_count": 44,
     "metadata": {},
     "output_type": "execute_result"
    }
   ],
   "source": [
    "# Creating a simple python list\n",
    "\n",
    "a = [13,41,53,37,62,16,41]\n",
    "a"
   ]
  },
  {
   "cell_type": "code",
   "execution_count": 45,
   "metadata": {
    "colab": {
     "base_uri": "https://localhost:8080/",
     "height": 156
    },
    "colab_type": "code",
    "executionInfo": {
     "elapsed": 399,
     "status": "ok",
     "timestamp": 1569575763670,
     "user": {
      "displayName": "Harshdeep Sharma ",
      "photoUrl": "https://lh3.googleusercontent.com/a/ACg8ocKlMSxdcxZ7zj-VJ7Uw-aTNTgXXO713_TriQwVjGBax0kp8Lu6v=s576-c-no",
      "userId": "0"
     },
     "user_tz": -60
    },
    "id": "4zD55eJT-Jmk",
    "outputId": "e1244f21-fbbb-49da-90f8-0a45bfd46924"
   },
   "outputs": [
    {
     "data": {
      "text/plain": [
       "0    13\n",
       "1    41\n",
       "2    53\n",
       "3    37\n",
       "4    62\n",
       "5    16\n",
       "6    41\n",
       "dtype: int64"
      ]
     },
     "execution_count": 45,
     "metadata": {},
     "output_type": "execute_result"
    }
   ],
   "source": [
    "# Now let's convert it into a pandas object called a series\n",
    "# NOTE: A pandas series is a single dimension column of data e.g.\n",
    "\n",
    "a = pd.Series(a)\n",
    "a"
   ]
  },
  {
   "cell_type": "code",
   "execution_count": 46,
   "metadata": {
    "colab": {
     "base_uri": "https://localhost:8080/",
     "height": 35
    },
    "colab_type": "code",
    "executionInfo": {
     "elapsed": 615,
     "status": "ok",
     "timestamp": 1569575766025,
     "user": {
      "displayName": "Harshdeep Sharma ",
      "photoUrl": "https://lh3.googleusercontent.com/a/ACg8ocKlMSxdcxZ7zj-VJ7Uw-aTNTgXXO713_TriQwVjGBax0kp8Lu6v=s576-c-no",
      "userId": "0"
     },
     "user_tz": -60
    },
    "id": "u40Byoaj-atz",
    "outputId": "86ecc12b-a990-48d4-a0fe-85c6b1a36ca4"
   },
   "outputs": [
    {
     "data": {
      "text/plain": [
       "pandas.core.series.Series"
      ]
     },
     "execution_count": 46,
     "metadata": {},
     "output_type": "execute_result"
    }
   ],
   "source": [
    "type(a)"
   ]
  },
  {
   "cell_type": "markdown",
   "metadata": {
    "colab_type": "text",
    "id": "4V7OiBHT-p4R"
   },
   "source": [
    "### Simple Series operations such as sorting, max, count, sum "
   ]
  },
  {
   "cell_type": "code",
   "execution_count": 47,
   "metadata": {
    "colab": {
     "base_uri": "https://localhost:8080/",
     "height": 35
    },
    "colab_type": "code",
    "executionInfo": {
     "elapsed": 609,
     "status": "ok",
     "timestamp": 1569575766606,
     "user": {
      "displayName": "Harshdeep Sharma ",
      "photoUrl": "https://lh3.googleusercontent.com/a/ACg8ocKlMSxdcxZ7zj-VJ7Uw-aTNTgXXO713_TriQwVjGBax0kp8Lu6v=s576-c-no",
      "userId": "0"
     },
     "user_tz": -60
    },
    "id": "ZIMpJQhU-tf0",
    "outputId": "42c83929-2f24-44ba-a313-a1d822253f1d"
   },
   "outputs": [
    {
     "data": {
      "text/plain": [
       "np.int64(62)"
      ]
     },
     "execution_count": 47,
     "metadata": {},
     "output_type": "execute_result"
    }
   ],
   "source": [
    "a.max()"
   ]
  },
  {
   "cell_type": "code",
   "execution_count": 60,
   "metadata": {
    "colab": {
     "base_uri": "https://localhost:8080/",
     "height": 35
    },
    "colab_type": "code",
    "executionInfo": {
     "elapsed": 389,
     "status": "ok",
     "timestamp": 1569575766607,
     "user": {
      "displayName": "Harshdeep Sharma ",
      "photoUrl": "https://lh3.googleusercontent.com/a/ACg8ocKlMSxdcxZ7zj-VJ7Uw-aTNTgXXO713_TriQwVjGBax0kp8Lu6v=s576-c-no",
      "userId": "0"
     },
     "user_tz": -60
    },
    "id": "-Pbw5-SJ-vjZ",
    "outputId": "f4f7db4f-b3b2-4d4a-a2f2-54082d270897"
   },
   "outputs": [
    {
     "data": {
      "text/plain": [
       "np.int64(13)"
      ]
     },
     "execution_count": 60,
     "metadata": {},
     "output_type": "execute_result"
    }
   ],
   "source": [
    "a.min()"
   ]
  },
  {
   "cell_type": "code",
   "execution_count": 59,
   "metadata": {
    "colab": {
     "base_uri": "https://localhost:8080/",
     "height": 156
    },
    "colab_type": "code",
    "executionInfo": {
     "elapsed": 375,
     "status": "ok",
     "timestamp": 1569575766825,
     "user": {
      "displayName": "Harshdeep Sharma ",
      "photoUrl": "https://lh3.googleusercontent.com/a/ACg8ocKlMSxdcxZ7zj-VJ7Uw-aTNTgXXO713_TriQwVjGBax0kp8Lu6v=s576-c-no",
      "userId": "0"
     },
     "user_tz": -60
    },
    "id": "UT5X-fyl-w0i",
    "outputId": "f7f7eb65-fad0-4c28-bbc2-f0c10ec78b6a"
   },
   "outputs": [
    {
     "data": {
      "text/plain": [
       "0    13\n",
       "5    16\n",
       "3    37\n",
       "6    41\n",
       "1    41\n",
       "2    53\n",
       "4    62\n",
       "dtype: int64"
      ]
     },
     "execution_count": 59,
     "metadata": {},
     "output_type": "execute_result"
    }
   ],
   "source": [
    "# Sort using all default settings\n",
    "a.sort_values()"
   ]
  },
  {
   "cell_type": "code",
   "execution_count": 61,
   "metadata": {
    "colab": {
     "base_uri": "https://localhost:8080/",
     "height": 156
    },
    "colab_type": "code",
    "executionInfo": {
     "elapsed": 494,
     "status": "ok",
     "timestamp": 1569575767236,
     "user": {
      "displayName": "Harshdeep Sharma ",
      "photoUrl": "https://lh3.googleusercontent.com/a/ACg8ocKlMSxdcxZ7zj-VJ7Uw-aTNTgXXO713_TriQwVjGBax0kp8Lu6v=s576-c-no",
      "userId": "0"
     },
     "user_tz": -60
    },
    "id": "JZGos1kX-2xJ",
    "outputId": "0b9bba5e-9582-4d8f-da72-5e6fdc548f69"
   },
   "outputs": [
    {
     "data": {
      "text/plain": [
       "4    62\n",
       "2    53\n",
       "1    41\n",
       "6    41\n",
       "3    37\n",
       "5    16\n",
       "0    13\n",
       "dtype: int64"
      ]
     },
     "execution_count": 61,
     "metadata": {},
     "output_type": "execute_result"
    }
   ],
   "source": [
    "# Sort by placing the highest number first\n",
    "a.sort_values(ascending=False)"
   ]
  },
  {
   "cell_type": "code",
   "execution_count": 66,
   "metadata": {
    "colab": {
     "base_uri": "https://localhost:8080/",
     "height": 156
    },
    "colab_type": "code",
    "executionInfo": {
     "elapsed": 359,
     "status": "ok",
     "timestamp": 1569575767574,
     "user": {
      "displayName": "Harshdeep Sharma ",
      "photoUrl": "https://lh3.googleusercontent.com/a/ACg8ocKlMSxdcxZ7zj-VJ7Uw-aTNTgXXO713_TriQwVjGBax0kp8Lu6v=s576-c-no",
      "userId": "0"
     },
     "user_tz": -60
    },
    "id": "NffgsltC_tV0",
    "outputId": "84138ed8-ebd2-4ae4-da89-3fee5a0ed74a"
   },
   "outputs": [
    {
     "data": {
      "text/plain": [
       "4    62\n",
       "2    53\n",
       "1    41\n",
       "6    41\n",
       "3    37\n",
       "5    16\n",
       "0    13\n",
       "dtype: int64"
      ]
     },
     "execution_count": 66,
     "metadata": {},
     "output_type": "execute_result"
    }
   ],
   "source": [
    "a"
   ]
  },
  {
   "cell_type": "code",
   "execution_count": 63,
   "metadata": {
    "colab": {
     "base_uri": "https://localhost:8080/",
     "height": 156
    },
    "colab_type": "code",
    "executionInfo": {
     "elapsed": 465,
     "status": "ok",
     "timestamp": 1569575786510,
     "user": {
      "displayName": "Harshdeep Sharma ",
      "photoUrl": "https://lh3.googleusercontent.com/a/ACg8ocKlMSxdcxZ7zj-VJ7Uw-aTNTgXXO713_TriQwVjGBax0kp8Lu6v=s576-c-no",
      "userId": "0"
     },
     "user_tz": -60
    },
    "id": "RG-bitVx9939",
    "outputId": "7116698a-72fb-49c8-835e-c6f0c7029e08"
   },
   "outputs": [
    {
     "data": {
      "text/plain": [
       "4    62\n",
       "2    53\n",
       "1    41\n",
       "6    41\n",
       "3    37\n",
       "5    16\n",
       "0    13\n",
       "dtype: int64"
      ]
     },
     "execution_count": 63,
     "metadata": {},
     "output_type": "execute_result"
    }
   ],
   "source": [
    "# Save 'a' by using inplace\n",
    "a.sort_values(ascending=False, inplace=True)\n",
    "a"
   ]
  },
  {
   "cell_type": "code",
   "execution_count": 64,
   "metadata": {
    "colab": {
     "base_uri": "https://localhost:8080/",
     "height": 139
    },
    "colab_type": "code",
    "executionInfo": {
     "elapsed": 583,
     "status": "ok",
     "timestamp": 1569575793416,
     "user": {
      "displayName": "Harshdeep Sharma ",
      "photoUrl": "https://lh3.googleusercontent.com/a/ACg8ocKlMSxdcxZ7zj-VJ7Uw-aTNTgXXO713_TriQwVjGBax0kp8Lu6v=s576-c-no",
      "userId": "0"
     },
     "user_tz": -60
    },
    "id": "srmhxkfb9148",
    "outputId": "9e6e8786-1097-42dc-b5ff-edc670166403"
   },
   "outputs": [
    {
     "data": {
      "text/plain": [
       "41    2\n",
       "62    1\n",
       "53    1\n",
       "37    1\n",
       "16    1\n",
       "13    1\n",
       "Name: count, dtype: int64"
      ]
     },
     "execution_count": 64,
     "metadata": {},
     "output_type": "execute_result"
    }
   ],
   "source": [
    "a.value_counts()"
   ]
  },
  {
   "cell_type": "code",
   "execution_count": 65,
   "metadata": {
    "colab": {
     "base_uri": "https://localhost:8080/",
     "height": 52
    },
    "colab_type": "code",
    "executionInfo": {
     "elapsed": 414,
     "status": "ok",
     "timestamp": 1569575811505,
     "user": {
      "displayName": "Harshdeep Sharma ",
      "photoUrl": "https://lh3.googleusercontent.com/a/ACg8ocKlMSxdcxZ7zj-VJ7Uw-aTNTgXXO713_TriQwVjGBax0kp8Lu6v=s576-c-no",
      "userId": "0"
     },
     "user_tz": -60
    },
    "id": "_hl8iTpp92Ax",
    "outputId": "ec303812-d455-4737-9007-330d9c26f3a8"
   },
   "outputs": [
    {
     "data": {
      "text/plain": [
       "4    62\n",
       "dtype: int64"
      ]
     },
     "execution_count": 65,
     "metadata": {},
     "output_type": "execute_result"
    }
   ],
   "source": [
    "a[:1]"
   ]
  }
 ],
 "metadata": {
  "colab": {
   "name": "Pandas 1 - Series.ipynb",
   "provenance": []
  },
  "kernelspec": {
   "display_name": "Python 3",
   "name": "python3"
  },
  "language_info": {
   "codemirror_mode": {
    "name": "ipython",
    "version": 3
   },
   "file_extension": ".py",
   "mimetype": "text/x-python",
   "name": "python",
   "nbconvert_exporter": "python",
   "pygments_lexer": "ipython3",
   "version": "3.12.4"
  }
 },
 "nbformat": 4,
 "nbformat_minor": 0
}
