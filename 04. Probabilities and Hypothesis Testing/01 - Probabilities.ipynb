{
 "cells": [
  {
   "cell_type": "markdown",
   "id": "7c3f376a-f4ee-4577-a73b-161459668bd2",
   "metadata": {},
   "source": [
    "# Probabilities"
   ]
  },
  {
   "cell_type": "code",
   "execution_count": 1,
   "id": "9d6cf3f4-185e-4794-a9ac-9cb2ae1024d0",
   "metadata": {},
   "outputs": [
    {
     "data": {
      "text/plain": [
       "0.478"
      ]
     },
     "execution_count": 1,
     "metadata": {},
     "output_type": "execute_result"
    }
   ],
   "source": [
    "from numpy.random import seed, randint\n",
    "\n",
    "seed(1)\n",
    "\n",
    "def coin_toss(flips):\n",
    "  heads = 0\n",
    "  tails = 0\n",
    "  for i in range(0,flips):\n",
    "    if randint(0, 2) == 1:\n",
    "        heads += 1\n",
    "    else:\n",
    "        tails += 1\n",
    "  return heads/flips\n",
    "\n",
    "coin_toss(1000)"
   ]
  },
  {
   "cell_type": "markdown",
   "id": "8d6d7e76-b80a-4d4f-aefe-9d84ccbc2361",
   "metadata": {},
   "source": [
    "### Let's store the results of coin toss simulations"
   ]
  },
  {
   "cell_type": "code",
   "execution_count": 2,
   "id": "21dd7852-3a8f-4435-aa9e-995366aa455b",
   "metadata": {},
   "outputs": [],
   "source": [
    "probabilities = []\n",
    "for i in range(1,1000):\n",
    "  results = (i,coin_toss(i))\n",
    "  probabilities.append(results)"
   ]
  },
  {
   "cell_type": "code",
   "execution_count": 3,
   "id": "3c156a0a-6929-49b8-9599-7fb509dafa76",
   "metadata": {},
   "outputs": [
    {
     "data": {
      "text/html": [
       "<div>\n",
       "<style scoped>\n",
       "    .dataframe tbody tr th:only-of-type {\n",
       "        vertical-align: middle;\n",
       "    }\n",
       "\n",
       "    .dataframe tbody tr th {\n",
       "        vertical-align: top;\n",
       "    }\n",
       "\n",
       "    .dataframe thead th {\n",
       "        text-align: right;\n",
       "    }\n",
       "</style>\n",
       "<table border=\"1\" class=\"dataframe\">\n",
       "  <thead>\n",
       "    <tr style=\"text-align: right;\">\n",
       "      <th></th>\n",
       "      <th>Number of Coin Tosses</th>\n",
       "      <th>Probability</th>\n",
       "    </tr>\n",
       "  </thead>\n",
       "  <tbody>\n",
       "    <tr>\n",
       "      <th>0</th>\n",
       "      <td>1</td>\n",
       "      <td>0.000000</td>\n",
       "    </tr>\n",
       "    <tr>\n",
       "      <th>1</th>\n",
       "      <td>2</td>\n",
       "      <td>0.000000</td>\n",
       "    </tr>\n",
       "    <tr>\n",
       "      <th>2</th>\n",
       "      <td>3</td>\n",
       "      <td>0.333333</td>\n",
       "    </tr>\n",
       "    <tr>\n",
       "      <th>3</th>\n",
       "      <td>4</td>\n",
       "      <td>0.500000</td>\n",
       "    </tr>\n",
       "    <tr>\n",
       "      <th>4</th>\n",
       "      <td>5</td>\n",
       "      <td>0.600000</td>\n",
       "    </tr>\n",
       "    <tr>\n",
       "      <th>5</th>\n",
       "      <td>6</td>\n",
       "      <td>1.000000</td>\n",
       "    </tr>\n",
       "    <tr>\n",
       "      <th>6</th>\n",
       "      <td>7</td>\n",
       "      <td>0.571429</td>\n",
       "    </tr>\n",
       "    <tr>\n",
       "      <th>7</th>\n",
       "      <td>8</td>\n",
       "      <td>0.375000</td>\n",
       "    </tr>\n",
       "    <tr>\n",
       "      <th>8</th>\n",
       "      <td>9</td>\n",
       "      <td>0.111111</td>\n",
       "    </tr>\n",
       "    <tr>\n",
       "      <th>9</th>\n",
       "      <td>10</td>\n",
       "      <td>0.700000</td>\n",
       "    </tr>\n",
       "    <tr>\n",
       "      <th>10</th>\n",
       "      <td>11</td>\n",
       "      <td>0.636364</td>\n",
       "    </tr>\n",
       "    <tr>\n",
       "      <th>11</th>\n",
       "      <td>12</td>\n",
       "      <td>0.416667</td>\n",
       "    </tr>\n",
       "    <tr>\n",
       "      <th>12</th>\n",
       "      <td>13</td>\n",
       "      <td>0.692308</td>\n",
       "    </tr>\n",
       "    <tr>\n",
       "      <th>13</th>\n",
       "      <td>14</td>\n",
       "      <td>0.357143</td>\n",
       "    </tr>\n",
       "    <tr>\n",
       "      <th>14</th>\n",
       "      <td>15</td>\n",
       "      <td>0.533333</td>\n",
       "    </tr>\n",
       "  </tbody>\n",
       "</table>\n",
       "</div>"
      ],
      "text/plain": [
       "    Number of Coin Tosses  Probability\n",
       "0                       1     0.000000\n",
       "1                       2     0.000000\n",
       "2                       3     0.333333\n",
       "3                       4     0.500000\n",
       "4                       5     0.600000\n",
       "5                       6     1.000000\n",
       "6                       7     0.571429\n",
       "7                       8     0.375000\n",
       "8                       9     0.111111\n",
       "9                      10     0.700000\n",
       "10                     11     0.636364\n",
       "11                     12     0.416667\n",
       "12                     13     0.692308\n",
       "13                     14     0.357143\n",
       "14                     15     0.533333"
      ]
     },
     "execution_count": 3,
     "metadata": {},
     "output_type": "execute_result"
    }
   ],
   "source": [
    "# Convert our data to a dataframe\n",
    "import pandas as pd\n",
    "\n",
    "df = pd.DataFrame(probabilities)\n",
    "df.columns = ['Number of Coin Tosses', 'Probability']\n",
    "df.head(15)"
   ]
  },
  {
   "cell_type": "code",
   "execution_count": 5,
   "id": "6cfcb803-9c38-4c58-9af4-ad65e52fd0ba",
   "metadata": {},
   "outputs": [
    {
     "data": {
      "text/plain": [
       "<matplotlib.lines.Line2D at 0x1bf481a8550>"
      ]
     },
     "execution_count": 5,
     "metadata": {},
     "output_type": "execute_result"
    },
    {
     "data": {
      "image/png": "[encoded data removed]",
      "text/plain": [
       "<Figure size 558.875x500 with 1 Axes>"
      ]
     },
     "metadata": {},
     "output_type": "display_data"
    }
   ],
   "source": [
    "# Now let's create our plot\n",
    "import matplotlib.pyplot as plt\n",
    "import seaborn as sns\n",
    "\n",
    "sns.relplot(x=\"Number of Coin Tosses\", y=\"Probability\", size=1, kind=\"line\", data=df)\n",
    "plt.axhline(0.5, color = 'Red', label = '0.5')"
   ]
  },
  {
   "cell_type": "code",
   "execution_count": null,
   "id": "c794dcdf-891e-4d0a-954f-c849176022ff",
   "metadata": {},
   "outputs": [],
   "source": []
  }
 ],
 "metadata": {
  "kernelspec": {
   "display_name": "Python 3 (ipykernel)",
   "language": "python",
   "name": "python3"
  },
  "language_info": {
   "codemirror_mode": {
    "name": "ipython",
    "version": 3
   },
   "file_extension": ".py",
   "mimetype": "text/x-python",
   "name": "python",
   "nbconvert_exporter": "python",
   "pygments_lexer": "ipython3",
   "version": "3.13.5"
  }
 },
 "nbformat": 4,
 "nbformat_minor": 5
}
