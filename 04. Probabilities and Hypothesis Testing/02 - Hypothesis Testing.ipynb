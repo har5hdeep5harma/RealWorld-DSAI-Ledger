{
 "cells": [
  {
   "cell_type": "markdown",
   "id": "cb3b8ced-0725-458d-b97d-5efec297484a",
   "metadata": {},
   "source": [
    "# Hypothesis Testing\n",
    "\n",
    "### 1. Creating a Sample Distribution from our Control and Experimental groups"
   ]
  },
  {
   "cell_type": "code",
   "execution_count": 1,
   "id": "e3f0228a-a928-40c5-a237-13c1265501e8",
   "metadata": {},
   "outputs": [
    {
     "data": {
      "text/html": [
       "<div>\n",
       "<style scoped>\n",
       "    .dataframe tbody tr th:only-of-type {\n",
       "        vertical-align: middle;\n",
       "    }\n",
       "\n",
       "    .dataframe tbody tr th {\n",
       "        vertical-align: top;\n",
       "    }\n",
       "\n",
       "    .dataframe thead th {\n",
       "        text-align: right;\n",
       "    }\n",
       "</style>\n",
       "<table border=\"1\" class=\"dataframe\">\n",
       "  <thead>\n",
       "    <tr style=\"text-align: right;\">\n",
       "      <th></th>\n",
       "      <th>group</th>\n",
       "      <th>mean_duration</th>\n",
       "    </tr>\n",
       "  </thead>\n",
       "  <tbody>\n",
       "    <tr>\n",
       "      <th>0</th>\n",
       "      <td>Control</td>\n",
       "      <td>7</td>\n",
       "    </tr>\n",
       "    <tr>\n",
       "      <th>1</th>\n",
       "      <td>Control</td>\n",
       "      <td>5</td>\n",
       "    </tr>\n",
       "    <tr>\n",
       "      <th>2</th>\n",
       "      <td>Control</td>\n",
       "      <td>4</td>\n",
       "    </tr>\n",
       "    <tr>\n",
       "      <th>3</th>\n",
       "      <td>Control</td>\n",
       "      <td>5</td>\n",
       "    </tr>\n",
       "    <tr>\n",
       "      <th>4</th>\n",
       "      <td>Control</td>\n",
       "      <td>8</td>\n",
       "    </tr>\n",
       "  </tbody>\n",
       "</table>\n",
       "</div>"
      ],
      "text/plain": [
       "     group  mean_duration\n",
       "0  Control              7\n",
       "1  Control              5\n",
       "2  Control              4\n",
       "3  Control              5\n",
       "4  Control              8"
      ]
     },
     "execution_count": 1,
     "metadata": {},
     "output_type": "execute_result"
    }
   ],
   "source": [
    "import pandas as pd\n",
    "import numpy as np\n",
    "import seaborn as sns\n",
    "import matplotlib.pyplot as plt\n",
    "\n",
    "file_name = \"https://raw.githubusercontent.com/har5hdeep5harma/RealWorld-DSAI-Ledger/refs/heads/main/Data%2C%20Image%20and%20Reference%20Files/Drug%20Trial.csv\"\n",
    "df = pd.read_csv(file_name)\n",
    "df.head()"
   ]
  },
  {
   "cell_type": "code",
   "execution_count": 2,
   "id": "fbd6d112-8be8-4118-ac6e-9c06e6db6493",
   "metadata": {},
   "outputs": [
    {
     "data": {
      "text/plain": [
       "array(['Control', 'Experimental'], dtype=object)"
      ]
     },
     "execution_count": 2,
     "metadata": {},
     "output_type": "execute_result"
    }
   ],
   "source": [
    "df['group'].unique()"
   ]
  },
  {
   "cell_type": "code",
   "execution_count": 4,
   "id": "51c05b66-f1f7-441c-b995-a3f0479db5cb",
   "metadata": {},
   "outputs": [
    {
     "name": "stdout",
     "output_type": "stream",
     "text": [
      "Control Mean =\n",
      " mean_duration    5.4\n",
      "dtype: float64\n",
      "Experimental Mean =\n",
      " mean_duration    4.8\n",
      "dtype: float64\n"
     ]
    }
   ],
   "source": [
    "# Show means of Control and Experimental groups\n",
    "\n",
    "control_mean = df[df['group'] == 'Control'].mean(numeric_only=True)\n",
    "experiment_mean = df[df['group'] == 'Experimental'].mean(numeric_only=True)\n",
    "print(\"Control Mean =\\n\", control_mean)\n",
    "print(\"Experimental Mean =\\n\", experiment_mean)"
   ]
  },
  {
   "cell_type": "markdown",
   "id": "71eb1739-368f-4c3f-bddd-262f7dca5f4c",
   "metadata": {},
   "source": [
    "# Let's run 10,000 Permutations "
   ]
  },
  {
   "cell_type": "code",
   "execution_count": 6,
   "id": "ad3f76e6-93eb-4193-9e12-7fddccf370da",
   "metadata": {},
   "outputs": [
    {
     "name": "stdout",
     "output_type": "stream",
     "text": [
      "Mean Differences Mean - -0.0002985595092661294\n"
     ]
    },
    {
     "data": {
      "text/plain": [
       "<seaborn.axisgrid.FacetGrid at 0x272d4a80d70>"
      ]
     },
     "execution_count": 6,
     "metadata": {},
     "output_type": "execute_result"
    },
    {
     "data": {
      "image/png": "[encoded data removed]",
      "text/plain": [
       "<Figure size 500x500 with 1 Axes>"
      ]
     },
     "metadata": {},
     "output_type": "display_data"
    }
   ],
   "source": [
    "mean_difference = control_mean - experiment_mean\n",
    "data_points = list(df['mean_duration'])\n",
    "mean_differences = []\n",
    "number_of_iterations = 10000\n",
    "\n",
    "for i in range(number_of_iterations):\n",
    "    group_1 = []\n",
    "    group_2 = []\n",
    "    for data_point in data_points:\n",
    "        random_assignment = np.random.randint(0,2)==True\n",
    "        if random_assignment:\n",
    "            group_1.append(data_point)\n",
    "        else:\n",
    "            group_2.append(data_point)\n",
    "\n",
    "    trial_mean_difference = np.mean(group_2) - np.mean(group_1)\n",
    "    mean_differences.append(trial_mean_difference)\n",
    "    \n",
    "print(\"Mean Differences Mean - \" + str(np.array(mean_differences).mean()))    \n",
    "# Generate Frequency or Histogram Plot\n",
    "sns.displot(mean_differences)"
   ]
  },
  {
   "cell_type": "markdown",
   "id": "65f27d2b-9a39-44b5-9760-3c81f5d1b973",
   "metadata": {},
   "source": [
    "## How many values exceed the mean difference of 0.6?"
   ]
  },
  {
   "cell_type": "code",
   "execution_count": 7,
   "id": "3c9b0d13-ef00-4d91-931d-f401b0d261e1",
   "metadata": {},
   "outputs": [
    {
     "name": "stdout",
     "output_type": "stream",
     "text": [
      "403\n"
     ]
    }
   ],
   "source": [
    "# Convert our mean_differences to a data frame for easy manipulation\n",
    "mean_differences = pd.DataFrame(mean_differences)\n",
    "\n",
    "# Get the length of this series to count the number of value exceeding 0.6\n",
    "exceeds_mean_diff = len(mean_differences[mean_differences[0] >= 0.6])\n",
    "print(exceeds_mean_diff)"
   ]
  },
  {
   "cell_type": "markdown",
   "id": "68b61cce-61a2-4b9b-ae5f-037991575553",
   "metadata": {},
   "source": [
    "## Calculating the P-Value"
   ]
  },
  {
   "cell_type": "code",
   "execution_count": 8,
   "id": "e1c1854e-b9e9-4dcc-999e-9ecd7668c887",
   "metadata": {},
   "outputs": [
    {
     "name": "stdout",
     "output_type": "stream",
     "text": [
      "0.0403\n"
     ]
    }
   ],
   "source": [
    "# Number of trials we performed was 10,000\n",
    "# P-Value is equal to the \n",
    "\n",
    "p_value = exceeds_mean_diff / number_of_iterations\n",
    "print(p_value)"
   ]
  }
 ],
 "metadata": {
  "kernelspec": {
   "display_name": "Python 3 (ipykernel)",
   "language": "python",
   "name": "python3"
  },
  "language_info": {
   "codemirror_mode": {
    "name": "ipython",
    "version": 3
   },
   "file_extension": ".py",
   "mimetype": "text/x-python",
   "name": "python",
   "nbconvert_exporter": "python",
   "pygments_lexer": "ipython3",
   "version": "3.13.5"
  }
 },
 "nbformat": 4,
 "nbformat_minor": 5
}
